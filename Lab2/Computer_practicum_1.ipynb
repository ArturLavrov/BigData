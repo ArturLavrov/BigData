{
  "nbformat": 4,
  "nbformat_minor": 0,
  "metadata": {
    "colab": {
      "provenance": []
    },
    "kernelspec": {
      "name": "python3",
      "display_name": "Python 3"
    },
    "language_info": {
      "name": "python"
    }
  },
  "cells": [
    {
      "cell_type": "code",
      "source": [
        "!pip install pyspark\n",
        "!apt-get install openjdk-8-jdk-headless -qq\n",
        "import os\n",
        "os.environ[\"JAVA_HOME\"] = \"/usr/lib/jvm/java-8-openjdk-amd64\"\n",
        "\n",
        "!pip install graphframes\n",
        "\n",
        "import pyspark\n",
        "from pyspark.sql import SparkSession\n",
        "from functools import reduce\n",
        "from pyspark.sql.functions import col, lit, when\n",
        "from graphframes import GraphFrame\n",
        "\n",
        "import pyspark.sql.functions as F\n",
        "from math import radians, cos, sin, asin, sqrt"
      ],
      "metadata": {
        "colab": {
          "base_uri": "https://localhost:8080/"
        },
        "id": "ui0blEutp_e2",
        "outputId": "c1742b16-b79a-4500-b586-d691534292e3"
      },
      "execution_count": null,
      "outputs": [
        {
          "output_type": "stream",
          "name": "stdout",
          "text": [
            "Requirement already satisfied: pyspark in /usr/local/lib/python3.10/dist-packages (3.5.3)\n",
            "Requirement already satisfied: py4j==0.10.9.7 in /usr/local/lib/python3.10/dist-packages (from pyspark) (0.10.9.7)\n",
            "Selecting previously unselected package libxtst6:amd64.\n",
            "(Reading database ... 123629 files and directories currently installed.)\n",
            "Preparing to unpack .../libxtst6_2%3a1.2.3-1build4_amd64.deb ...\n",
            "Unpacking libxtst6:amd64 (2:1.2.3-1build4) ...\n",
            "Selecting previously unselected package openjdk-8-jre-headless:amd64.\n",
            "Preparing to unpack .../openjdk-8-jre-headless_8u422-b05-1~22.04_amd64.deb ...\n",
            "Unpacking openjdk-8-jre-headless:amd64 (8u422-b05-1~22.04) ...\n",
            "Selecting previously unselected package openjdk-8-jdk-headless:amd64.\n",
            "Preparing to unpack .../openjdk-8-jdk-headless_8u422-b05-1~22.04_amd64.deb ...\n",
            "Unpacking openjdk-8-jdk-headless:amd64 (8u422-b05-1~22.04) ...\n",
            "Setting up libxtst6:amd64 (2:1.2.3-1build4) ...\n",
            "Setting up openjdk-8-jre-headless:amd64 (8u422-b05-1~22.04) ...\n",
            "update-alternatives: using /usr/lib/jvm/java-8-openjdk-amd64/jre/bin/orbd to provide /usr/bin/orbd (orbd) in auto mode\n",
            "update-alternatives: using /usr/lib/jvm/java-8-openjdk-amd64/jre/bin/servertool to provide /usr/bin/servertool (servertool) in auto mode\n",
            "update-alternatives: using /usr/lib/jvm/java-8-openjdk-amd64/jre/bin/tnameserv to provide /usr/bin/tnameserv (tnameserv) in auto mode\n",
            "Setting up openjdk-8-jdk-headless:amd64 (8u422-b05-1~22.04) ...\n",
            "update-alternatives: using /usr/lib/jvm/java-8-openjdk-amd64/bin/clhsdb to provide /usr/bin/clhsdb (clhsdb) in auto mode\n",
            "update-alternatives: using /usr/lib/jvm/java-8-openjdk-amd64/bin/extcheck to provide /usr/bin/extcheck (extcheck) in auto mode\n",
            "update-alternatives: using /usr/lib/jvm/java-8-openjdk-amd64/bin/hsdb to provide /usr/bin/hsdb (hsdb) in auto mode\n",
            "update-alternatives: using /usr/lib/jvm/java-8-openjdk-amd64/bin/idlj to provide /usr/bin/idlj (idlj) in auto mode\n",
            "update-alternatives: using /usr/lib/jvm/java-8-openjdk-amd64/bin/javah to provide /usr/bin/javah (javah) in auto mode\n",
            "update-alternatives: using /usr/lib/jvm/java-8-openjdk-amd64/bin/jhat to provide /usr/bin/jhat (jhat) in auto mode\n",
            "update-alternatives: using /usr/lib/jvm/java-8-openjdk-amd64/bin/jsadebugd to provide /usr/bin/jsadebugd (jsadebugd) in auto mode\n",
            "update-alternatives: using /usr/lib/jvm/java-8-openjdk-amd64/bin/native2ascii to provide /usr/bin/native2ascii (native2ascii) in auto mode\n",
            "update-alternatives: using /usr/lib/jvm/java-8-openjdk-amd64/bin/schemagen to provide /usr/bin/schemagen (schemagen) in auto mode\n",
            "update-alternatives: using /usr/lib/jvm/java-8-openjdk-amd64/bin/wsgen to provide /usr/bin/wsgen (wsgen) in auto mode\n",
            "update-alternatives: using /usr/lib/jvm/java-8-openjdk-amd64/bin/wsimport to provide /usr/bin/wsimport (wsimport) in auto mode\n",
            "update-alternatives: using /usr/lib/jvm/java-8-openjdk-amd64/bin/xjc to provide /usr/bin/xjc (xjc) in auto mode\n",
            "Processing triggers for libc-bin (2.35-0ubuntu3.4) ...\n",
            "/sbin/ldconfig.real: /usr/local/lib/libur_adapter_level_zero.so.0 is not a symbolic link\n",
            "\n",
            "/sbin/ldconfig.real: /usr/local/lib/libur_adapter_opencl.so.0 is not a symbolic link\n",
            "\n",
            "/sbin/ldconfig.real: /usr/local/lib/libtbbmalloc.so.2 is not a symbolic link\n",
            "\n",
            "/sbin/ldconfig.real: /usr/local/lib/libtbb.so.12 is not a symbolic link\n",
            "\n",
            "/sbin/ldconfig.real: /usr/local/lib/libtbbbind_2_5.so.3 is not a symbolic link\n",
            "\n",
            "/sbin/ldconfig.real: /usr/local/lib/libtbbmalloc_proxy.so.2 is not a symbolic link\n",
            "\n",
            "/sbin/ldconfig.real: /usr/local/lib/libtbbbind_2_0.so.3 is not a symbolic link\n",
            "\n",
            "/sbin/ldconfig.real: /usr/local/lib/libtbbbind.so.3 is not a symbolic link\n",
            "\n",
            "/sbin/ldconfig.real: /usr/local/lib/libur_loader.so.0 is not a symbolic link\n",
            "\n",
            "Collecting graphframes\n",
            "  Downloading graphframes-0.6-py2.py3-none-any.whl.metadata (934 bytes)\n",
            "Requirement already satisfied: numpy in /usr/local/lib/python3.10/dist-packages (from graphframes) (1.26.4)\n",
            "Collecting nose (from graphframes)\n",
            "  Downloading nose-1.3.7-py3-none-any.whl.metadata (1.7 kB)\n",
            "Downloading graphframes-0.6-py2.py3-none-any.whl (18 kB)\n",
            "Downloading nose-1.3.7-py3-none-any.whl (154 kB)\n",
            "\u001b[2K   \u001b[90m━━━━━━━━━━━━━━━━━━━━━━━━━━━━━━━━━━━━━━━━\u001b[0m \u001b[32m154.7/154.7 kB\u001b[0m \u001b[31m412.0 kB/s\u001b[0m eta \u001b[36m0:00:00\u001b[0m\n",
            "\u001b[?25hInstalling collected packages: nose, graphframes\n",
            "Successfully installed graphframes-0.6 nose-1.3.7\n"
          ]
        }
      ]
    },
    {
      "cell_type": "code",
      "source": [
        "spark = SparkSession.builder.master(\"local[*]\").config(\"spark.jars.packages\", \"graphframes:graphframes:0.8.2-spark3.2-s_2.12\").getOrCreate()"
      ],
      "metadata": {
        "id": "ssLMnVrlp1Mn"
      },
      "execution_count": null,
      "outputs": []
    },
    {
      "cell_type": "code",
      "execution_count": null,
      "metadata": {
        "id": "_gU2nCxHoSjV"
      },
      "outputs": [],
      "source": [
        "def createTableFromCsv(tableName, fileLocation):\n",
        "  infer_schema = True\n",
        "  first_row_is_header = True\n",
        "  delimiter = \",\"\n",
        "\n",
        "  df = spark.read.format(\"csv\") \\\n",
        "    .option(\"inferSchema\", infer_schema) \\\n",
        "    .option(\"header\", first_row_is_header) \\\n",
        "    .option(\"sep\", delimiter) \\\n",
        "    .load(fileLocation)\n",
        "\n",
        "  df.createOrReplaceTempView(tableName)"
      ]
    },
    {
      "cell_type": "code",
      "source": [
        "createTableFromCsv(\"airlines\", \"/content/data/airlines.dat\")\n",
        "createTableFromCsv(\"airports\", \"/content/data/airports.dat\")\n",
        "createTableFromCsv(\"routes\", \"/content/data/routes.dat\")"
      ],
      "metadata": {
        "id": "d9ZURHSJqfMp"
      },
      "execution_count": null,
      "outputs": []
    },
    {
      "cell_type": "code",
      "source": [
        "airlines = spark.sql(\"SELECT * FROM airlines\")\n",
        "airlines.show()"
      ],
      "metadata": {
        "colab": {
          "base_uri": "https://localhost:8080/"
        },
        "id": "OwiFq7cGy97z",
        "outputId": "e33c2e99-0071-426d-bc17-16ee6eace2b9"
      },
      "execution_count": null,
      "outputs": [
        {
          "output_type": "stream",
          "name": "stdout",
          "text": [
            "+---------+--------------------+-----+----+----+---------------+--------------+------+\n",
            "|AirlineId|                Name|Alias|IATA|ICAO|       CallSign|       Country|Active|\n",
            "+---------+--------------------+-----+----+----+---------------+--------------+------+\n",
            "|        1|      Private flight|   \\N|   -| N/A|           NULL|          NULL|     Y|\n",
            "|        2|         135 Airways|   \\N|NULL| GNL|        GENERAL| United States|     N|\n",
            "|        3|       1Time Airline|   \\N|  1T| RNX|        NEXTIME|  South Africa|     Y|\n",
            "|        4|2 Sqn No 1 Elemen...|   \\N|NULL| WYT|           NULL|United Kingdom|     N|\n",
            "|        5|     213 Flight Unit|   \\N|NULL| TFU|           NULL|        Russia|     N|\n",
            "|        6|223 Flight Unit S...|   \\N|NULL| CHD| CHKALOVSK-AVIA|        Russia|     N|\n",
            "|        7|   224th Flight Unit|   \\N|NULL| TTF|     CARGO UNIT|        Russia|     N|\n",
            "|        8|         247 Jet Ltd|   \\N|NULL| TWF|   CLOUD RUNNER|United Kingdom|     N|\n",
            "|        9|         3D Aviation|   \\N|NULL| SEC|        SECUREX| United States|     N|\n",
            "|       10|         40-Mile Air|   \\N|  Q5| MLA|       MILE-AIR| United States|     Y|\n",
            "|       11|              4D Air|   \\N|NULL| QRT|        QUARTET|      Thailand|     N|\n",
            "|       12|611897 Alberta Li...|   \\N|NULL| THD|          DONUT|        Canada|     N|\n",
            "|       13|    Ansett Australia|   \\N|  AN| AAA|         ANSETT|     Australia|     Y|\n",
            "|       14|Abacus International|   \\N|  1B|NULL|           NULL|     Singapore|     Y|\n",
            "|       15|     Abelag Aviation|   \\N|  W9| AAB|            ABG|       Belgium|     N|\n",
            "|       16|      Army Air Corps|   \\N|NULL| AAC|        ARMYAIR|United Kingdom|     N|\n",
            "|       17|Aero Aviation Cen...|   \\N|NULL| AAD|        SUNRISE|        Canada|     N|\n",
            "|       18|Aero Servicios Ej...|   \\N|NULL| SII|         ASEISA|        Mexico|     N|\n",
            "|       19|         Aero Biniza|   \\N|NULL| BZS|         BINIZA|        Mexico|     N|\n",
            "|       20|       Aero Albatros|   \\N|NULL| ABM|ALBATROS ESPANA|         Spain|     N|\n",
            "+---------+--------------------+-----+----+----+---------------+--------------+------+\n",
            "only showing top 20 rows\n",
            "\n"
          ]
        }
      ]
    },
    {
      "cell_type": "code",
      "source": [
        "airports = spark.sql(\"SELECT * FROM airports\")\n",
        "airports.show()"
      ],
      "metadata": {
        "colab": {
          "base_uri": "https://localhost:8080/"
        },
        "id": "oc3VQxg7zC5I",
        "outputId": "8c5a086e-c217-4307-84fb-5f6be4cf1437"
      },
      "execution_count": null,
      "outputs": [
        {
          "output_type": "stream",
          "name": "stdout",
          "text": [
            "+---------+--------------------+--------------+----------------+----+----+------------------+-------------------+--------+--------+---+--------------------+-------+-----------+\n",
            "|AirportId|                Name|          City|         Country|IATA|ICAO|          Latitude|          Longitude|Altitude|Timezone|DST|        TimezoneName|   Type|     Source|\n",
            "+---------+--------------------+--------------+----------------+----+----+------------------+-------------------+--------+--------+---+--------------------+-------+-----------+\n",
            "|        1|      Goroka Airport|        Goroka|Papua New Guinea| GKA|AYGA|-6.081689834590001|      145.391998291|    5282|      10|  U|Pacific/Port_Moresby|airport|OurAirports|\n",
            "|        2|      Madang Airport|        Madang|Papua New Guinea| MAG|AYMD|    -5.20707988739|      145.789001465|      20|      10|  U|Pacific/Port_Moresby|airport|OurAirports|\n",
            "|        3|Mount Hagen Kagam...|   Mount Hagen|Papua New Guinea| HGU|AYMH|-5.826789855957031| 144.29600524902344|    5388|      10|  U|Pacific/Port_Moresby|airport|OurAirports|\n",
            "|        4|      Nadzab Airport|        Nadzab|Papua New Guinea| LAE|AYNZ|         -6.569803|         146.725977|     239|      10|  U|Pacific/Port_Moresby|airport|OurAirports|\n",
            "|        5|Port Moresby Jack...|  Port Moresby|Papua New Guinea| POM|AYPY|-9.443380355834961| 147.22000122070312|     146|      10|  U|Pacific/Port_Moresby|airport|OurAirports|\n",
            "|        6|Wewak Internation...|         Wewak|Papua New Guinea| WWK|AYWK|    -3.58383011818|      143.669006348|      19|      10|  U|Pacific/Port_Moresby|airport|OurAirports|\n",
            "|        7|  Narsarsuaq Airport|  Narssarssuaq|       Greenland| UAK|BGBW|     61.1604995728|     -45.4259986877|     112|      -3|  E|     America/Godthab|airport|OurAirports|\n",
            "|        8|Godthaab / Nuuk A...|      Godthaab|       Greenland| GOH|BGGH|       64.19090271|     -51.6781005859|     283|      -3|  E|     America/Godthab|airport|OurAirports|\n",
            "|        9|Kangerlussuaq Air...|   Sondrestrom|       Greenland| SFJ|BGSF|     67.0122218992|     -50.7116031647|     165|      -3|  E|     America/Godthab|airport|OurAirports|\n",
            "|       10|      Thule Air Base|         Thule|       Greenland| THU|BGTL|     76.5311965942|     -68.7032012939|     251|      -4|  E|       America/Thule|airport|OurAirports|\n",
            "|       11|    Akureyri Airport|      Akureyri|         Iceland| AEY|BIAR| 65.66000366210938| -18.07270050048828|       6|       0|  N|  Atlantic/Reykjavik|airport|OurAirports|\n",
            "|       12| Egilsstaðir Airport|   Egilsstadir|         Iceland| EGS|BIEG|  65.2833023071289|-14.401399612426758|      76|       0|  N|  Atlantic/Reykjavik|airport|OurAirports|\n",
            "|       13|Hornafjörður Airport|          Hofn|         Iceland| HFN|BIHN|         64.295601|           -15.2272|      24|       0|  N|  Atlantic/Reykjavik|airport|OurAirports|\n",
            "|       14|     Húsavík Airport|       Husavik|         Iceland| HZK|BIHU|         65.952301|         -17.426001|      48|       0|  N|  Atlantic/Reykjavik|airport|OurAirports|\n",
            "|       15|  Ísafjörður Airport|    Isafjordur|         Iceland| IFJ|BIIS| 66.05809783935547|-23.135299682617188|       8|       0|  N|  Atlantic/Reykjavik|airport|OurAirports|\n",
            "|       16|Keflavik Internat...|      Keflavik|         Iceland| KEF|BIKF|   63.985000610352|   -22.605600357056|     171|       0|  N|  Atlantic/Reykjavik|airport|OurAirports|\n",
            "|       17|Patreksfjörður Ai...|Patreksfjordur|         Iceland| PFJ|BIPA|         65.555801|            -23.965|      11|       0|  N|  Atlantic/Reykjavik|airport|OurAirports|\n",
            "|       18|   Reykjavik Airport|     Reykjavik|         Iceland| RKV|BIRK|     64.1299972534|     -21.9405994415|      48|       0|  N|  Atlantic/Reykjavik|airport|OurAirports|\n",
            "|       19|Siglufjörður Airport|  Siglufjordur|         Iceland| SIJ|BISI|         66.133301|           -18.9167|      10|       0|  N|  Atlantic/Reykjavik|airport|OurAirports|\n",
            "|       20|Vestmannaeyjar Ai...|Vestmannaeyjar|         Iceland| VEY|BIVM| 63.42430114746094|-20.278900146484375|     326|       0|  N|  Atlantic/Reykjavik|airport|OurAirports|\n",
            "+---------+--------------------+--------------+----------------+----+----+------------------+-------------------+--------+--------+---+--------------------+-------+-----------+\n",
            "only showing top 20 rows\n",
            "\n"
          ]
        }
      ]
    },
    {
      "cell_type": "code",
      "source": [
        "routes = spark.sql(\"SELECT * FROM routes\")\n",
        "routes.show()"
      ],
      "metadata": {
        "colab": {
          "base_uri": "https://localhost:8080/"
        },
        "id": "eEd2YD0sqqN4",
        "outputId": "041becda-cc08-4b68-8613-779a72a822a3"
      },
      "execution_count": null,
      "outputs": [
        {
          "output_type": "stream",
          "name": "stdout",
          "text": [
            "+-------+---------+-------------+---------------+------------------+--------------------+---------+-----+---------+\n",
            "|Airline|AirlineId|SourceAirport|SourceAirportId|DestinationAirport|DestinationAirportId|Codeshare|Stops|Equipment|\n",
            "+-------+---------+-------------+---------------+------------------+--------------------+---------+-----+---------+\n",
            "|     2B|      410|          AER|           2965|               KZN|                2990|     NULL|    0|      CR2|\n",
            "|     2B|      410|          ASF|           2966|               KZN|                2990|     NULL|    0|      CR2|\n",
            "|     2B|      410|          ASF|           2966|               MRV|                2962|     NULL|    0|      CR2|\n",
            "|     2B|      410|          CEK|           2968|               KZN|                2990|     NULL|    0|      CR2|\n",
            "|     2B|      410|          CEK|           2968|               OVB|                4078|     NULL|    0|      CR2|\n",
            "|     2B|      410|          DME|           4029|               KZN|                2990|     NULL|    0|      CR2|\n",
            "|     2B|      410|          DME|           4029|               NBC|                6969|     NULL|    0|      CR2|\n",
            "|     2B|      410|          DME|           4029|               TGK|                  \\N|     NULL|    0|      CR2|\n",
            "|     2B|      410|          DME|           4029|               UUA|                6160|     NULL|    0|      CR2|\n",
            "|     2B|      410|          EGO|           6156|               KGD|                2952|     NULL|    0|      CR2|\n",
            "|     2B|      410|          EGO|           6156|               KZN|                2990|     NULL|    0|      CR2|\n",
            "|     2B|      410|          GYD|           2922|               NBC|                6969|     NULL|    0|      CR2|\n",
            "|     2B|      410|          KGD|           2952|               EGO|                6156|     NULL|    0|      CR2|\n",
            "|     2B|      410|          KZN|           2990|               AER|                2965|     NULL|    0|      CR2|\n",
            "|     2B|      410|          KZN|           2990|               ASF|                2966|     NULL|    0|      CR2|\n",
            "|     2B|      410|          KZN|           2990|               CEK|                2968|     NULL|    0|      CR2|\n",
            "|     2B|      410|          KZN|           2990|               DME|                4029|     NULL|    0|      CR2|\n",
            "|     2B|      410|          KZN|           2990|               EGO|                6156|     NULL|    0|      CR2|\n",
            "|     2B|      410|          KZN|           2990|               LED|                2948|     NULL|    0|      CR2|\n",
            "|     2B|      410|          KZN|           2990|               SVX|                2975|     NULL|    0|      CR2|\n",
            "+-------+---------+-------------+---------------+------------------+--------------------+---------+-----+---------+\n",
            "only showing top 20 rows\n",
            "\n"
          ]
        }
      ]
    },
    {
      "cell_type": "markdown",
      "source": [
        "# **Task 1**\n",
        "Find the airline with the largest total flight distance. Do the same for the smallest total flight distance.."
      ],
      "metadata": {
        "id": "aX_YNPJXzUyQ"
      }
    },
    {
      "cell_type": "code",
      "source": [
        "def haversine(lat1, lon1, lat2, lon2):\n",
        "    R = 6371.0\n",
        "    delta_lat = radians(lat2 - lat1)\n",
        "    delta_lon = radians(lon2 - lon1)\n",
        "\n",
        "    a = sin(delta_lat / 2) ** 2 + cos(radians(lat1)) * cos(radians(lat2)) * sin(delta_lon / 2) ** 2\n",
        "    c = 2 * asin(sqrt(a))\n",
        "\n",
        "    distance = R * c\n",
        "\n",
        "    return distance\n",
        "\n",
        "haversine_udf = F.udf(haversine, \"double\")\n"
      ],
      "metadata": {
        "id": "XUBOaaIqzT66"
      },
      "execution_count": null,
      "outputs": []
    },
    {
      "cell_type": "code",
      "source": [
        "routesWithDistance = routes.join(airports, routes.SourceAirportId == airports.AirportId) \\\n",
        "  .select(\"Airline\", \"AirlineId\", \"SourceAirport\", \"SourceAirportId\",\n",
        "          \"DestinationAirport\", \"DestinationAirportId\",\n",
        "          \"Codeshare\", \"Stops\", \"Equipment\",\n",
        "          F.col(\"Latitude\").cast(\"double\").alias(\"SourceLatitude\"),\n",
        "          F.col(\"Longitude\").cast(\"double\").alias(\"SourceLongitude\")) \\\n",
        "  .join(airports, routes.DestinationAirportId == airports.AirportId) \\\n",
        "  .select(\"Airline\", \"AirlineId\", \"SourceAirport\", \"SourceAirportId\",\n",
        "          \"DestinationAirport\", \"DestinationAirportId\",\n",
        "          \"Codeshare\", \"Stops\", \"Equipment\",\n",
        "          \"SourceLatitude\", \"SourceLongitude\",\n",
        "          F.col(\"Latitude\").cast(\"double\").alias(\"DestinationLatitude\"),\n",
        "          F.col(\"Longitude\").cast(\"double\").alias(\"Destinationongitude\")) \\\n",
        "  .withColumn(\"Distance\", haversine_udf(\n",
        "    F.col(\"SourceLatitude\"), F.col(\"SourceLongitude\"), F.col(\"DestinationLatitude\"), F.col(\"Destinationongitude\")\n",
        "  )) \\\n",
        "  .select(\"Airline\", \"AirlineId\", \"SourceAirport\", \"SourceAirportId\",\n",
        "          \"DestinationAirport\", \"DestinationAirportId\",\n",
        "          \"Codeshare\", \"Stops\", \"Equipment\", \"Distance\")\n",
        "\n",
        "routesWithDistance.show()"
      ],
      "metadata": {
        "colab": {
          "base_uri": "https://localhost:8080/"
        },
        "id": "hJ6MesQD1vxa",
        "outputId": "db5ca3f0-f0b0-4c87-b01c-14c7ed9daa1e"
      },
      "execution_count": null,
      "outputs": [
        {
          "output_type": "stream",
          "name": "stdout",
          "text": [
            "+-------+---------+-------------+---------------+------------------+--------------------+---------+-----+---------+------------------+\n",
            "|Airline|AirlineId|SourceAirport|SourceAirportId|DestinationAirport|DestinationAirportId|Codeshare|Stops|Equipment|          Distance|\n",
            "+-------+---------+-------------+---------------+------------------+--------------------+---------+-----+---------+------------------+\n",
            "|     2B|      410|          AER|           2965|               KZN|                2990|     NULL|    0|      CR2|1506.8256414050907|\n",
            "|     2B|      410|          ASF|           2966|               KZN|                2990|     NULL|    0|      CR2|1040.4383197669076|\n",
            "|     2B|      410|          ASF|           2966|               MRV|                2962|     NULL|    0|      CR2|  448.164908709546|\n",
            "|     2B|      410|          CEK|           2968|               KZN|                2990|     NULL|    0|      CR2| 770.5085001497806|\n",
            "|     2B|      410|          CEK|           2968|               OVB|                4078|     NULL|    0|      CR2|1338.6314665862067|\n",
            "|     2B|      410|          DME|           4029|               KZN|                2990|     NULL|    0|      CR2| 715.6493504840489|\n",
            "|     2B|      410|          DME|           4029|               NBC|                6969|     NULL|    0|      CR2| 892.3827877543457|\n",
            "|     2B|      410|          DME|           4029|               UUA|                6160|     NULL|    0|      CR2| 951.4321982829719|\n",
            "|     2B|      410|          EGO|           6156|               KGD|                2952|     NULL|    0|      CR2|1171.8814952837668|\n",
            "|     2B|      410|          EGO|           6156|               KZN|                2990|     NULL|    0|      CR2| 1008.253110089581|\n",
            "|     2B|      410|          GYD|           2922|               NBC|                6969|     NULL|    0|      CR2|1685.4265243719856|\n",
            "|     2B|      410|          KGD|           2952|               EGO|                6156|     NULL|    0|      CR2|1171.8814952837668|\n",
            "|     2B|      410|          KZN|           2990|               AER|                2965|     NULL|    0|      CR2|1506.8256414050907|\n",
            "|     2B|      410|          KZN|           2990|               ASF|                2966|     NULL|    0|      CR2|1040.4383197669076|\n",
            "|     2B|      410|          KZN|           2990|               CEK|                2968|     NULL|    0|      CR2| 770.5085001497806|\n",
            "|     2B|      410|          KZN|           2990|               DME|                4029|     NULL|    0|      CR2| 715.6493504840489|\n",
            "|     2B|      410|          KZN|           2990|               EGO|                6156|     NULL|    0|      CR2| 1008.253110089581|\n",
            "|     2B|      410|          KZN|           2990|               LED|                2948|     NULL|    0|      CR2| 1216.844567482482|\n",
            "|     2B|      410|          KZN|           2990|               SVX|                2975|     NULL|    0|      CR2| 723.5232035200229|\n",
            "|     2B|      410|          LED|           2948|               KZN|                2990|     NULL|    0|      CR2| 1216.844567482482|\n",
            "+-------+---------+-------------+---------------+------------------+--------------------+---------+-----+---------+------------------+\n",
            "only showing top 20 rows\n",
            "\n"
          ]
        }
      ]
    },
    {
      "cell_type": "markdown",
      "source": [
        "Let's prepare a graph that we will work with."
      ],
      "metadata": {
        "id": "6cp14C397qRb"
      }
    },
    {
      "cell_type": "code",
      "source": [
        "vertices = airports.selectExpr(\n",
        "  \"AirportId as id\",\n",
        "  \"Name\",\n",
        "  \"City\",\n",
        "  \"Country\",\n",
        "  \"IATA\",\n",
        "  \"ICAO\",\n",
        "  \"Latitude\",\n",
        "  \"Longitude\",\n",
        "  \"Altitude\",\n",
        "  \"Timezone\",\n",
        "  \"DST\",\n",
        "  \"TimezoneName\",\n",
        "  \"Type\",\n",
        "  \"Source\"\n",
        ")\n",
        "\n",
        "edges = routesWithDistance.selectExpr(\n",
        "    \"SourceAirportId as src\",\n",
        "    \"DestinationAirportId as dst\",\n",
        "    \"AirlineId\",\n",
        "    \"Distance\"\n",
        ")\n",
        "\n",
        "g = GraphFrame(vertices, edges)\n",
        "g.edges.show()"
      ],
      "metadata": {
        "colab": {
          "base_uri": "https://localhost:8080/"
        },
        "id": "HyrfHAav3Ram",
        "outputId": "de523064-afaf-425d-fbcf-2b6a4787822e"
      },
      "execution_count": null,
      "outputs": [
        {
          "output_type": "stream",
          "name": "stderr",
          "text": [
            "/usr/local/lib/python3.10/dist-packages/pyspark/sql/dataframe.py:168: UserWarning: DataFrame.sql_ctx is an internal property, and will be removed in future releases. Use DataFrame.sparkSession instead.\n",
            "  warnings.warn(\n"
          ]
        },
        {
          "output_type": "stream",
          "name": "stdout",
          "text": [
            "+----+----+---------+------------------+\n",
            "| src| dst|AirlineId|          Distance|\n",
            "+----+----+---------+------------------+\n",
            "|2965|2990|      410|1506.8256414050907|\n",
            "|2966|2990|      410|1040.4383197669076|\n",
            "|2966|2962|      410|  448.164908709546|\n",
            "|2968|2990|      410| 770.5085001497806|\n",
            "|2968|4078|      410|1338.6314665862067|\n",
            "|4029|2990|      410| 715.6493504840489|\n",
            "|4029|6969|      410| 892.3827877543457|\n",
            "|4029|6160|      410| 951.4321982829719|\n",
            "|6156|2952|      410|1171.8814952837668|\n",
            "|6156|2990|      410| 1008.253110089581|\n",
            "|2922|6969|      410|1685.4265243719856|\n",
            "|2952|6156|      410|1171.8814952837668|\n",
            "|2990|2965|      410|1506.8256414050907|\n",
            "|2990|2966|      410|1040.4383197669076|\n",
            "|2990|2968|      410| 770.5085001497806|\n",
            "|2990|4029|      410| 715.6493504840489|\n",
            "|2990|6156|      410| 1008.253110089581|\n",
            "|2990|2948|      410| 1216.844567482482|\n",
            "|2990|2975|      410| 723.5232035200229|\n",
            "|2948|2990|      410| 1216.844567482482|\n",
            "+----+----+---------+------------------+\n",
            "only showing top 20 rows\n",
            "\n"
          ]
        }
      ]
    },
    {
      "cell_type": "code",
      "source": [
        "airlineDistances = g.edges.groupBy(\"AirlineId\").agg(F.sum(\"Distance\").alias(\"TotalDistance\"))\n",
        "\n",
        "maxDistanceAirline = airlineDistances.orderBy(F.desc(\"TotalDistance\")).limit(1)\n",
        "minDistanceAirline = airlineDistances.orderBy(F.asc(\"TotalDistance\")).limit(1)\n",
        "\n",
        "maxDistanceAirline.show()\n",
        "minDistanceAirline.show()"
      ],
      "metadata": {
        "colab": {
          "base_uri": "https://localhost:8080/"
        },
        "id": "5l0CKtaT7bFW",
        "outputId": "a4d31e90-0c9f-4fc8-82aa-5fd541bc60ec"
      },
      "execution_count": null,
      "outputs": [
        {
          "output_type": "stream",
          "name": "stdout",
          "text": [
            "+---------+-----------------+\n",
            "|AirlineId|    TotalDistance|\n",
            "+---------+-----------------+\n",
            "|       24|5433778.009419079|\n",
            "+---------+-----------------+\n",
            "\n",
            "+---------+----------------+\n",
            "|AirlineId|   TotalDistance|\n",
            "+---------+----------------+\n",
            "|    18700|38.1607383153748|\n",
            "+---------+----------------+\n",
            "\n"
          ]
        }
      ]
    },
    {
      "cell_type": "markdown",
      "source": [
        "# **Task 2**\n",
        "Find all possible flights between Poland and Belgium (with no more than 2 stopovers) and a path length of <5. Use motif and other solution approaches, then compare their results in terms of performance and implementation complexity."
      ],
      "metadata": {
        "id": "bl-GkjNB8Bco"
      }
    },
    {
      "cell_type": "markdown",
      "source": [
        "Let's search for all possible routes using the **motif** approach."
      ],
      "metadata": {
        "id": "gHbEZAN2qJbJ"
      }
    },
    {
      "cell_type": "code",
      "source": [
        "def find_routes_motif(start_country, end_country, max_transfers):\n",
        "    def create_path_pattern(num_transfers):\n",
        "        return \";\".join([f\"(v{index})-[e{index}]->(v{index + 1})\" for index in range(num_transfers + 1)])\n",
        "\n",
        "    def create_filters(num_transfers):\n",
        "        if num_transfers == 0:\n",
        "            return \"\"\n",
        "        return \" AND \".join([f\"v{index + 1} != v{index - 1}\" for index in range(1, num_transfers + 1)])\n",
        "\n",
        "    for i in range(max_transfers + 1):\n",
        "        path_pattern = create_path_pattern(i)\n",
        "        print(f\"Routes for path: {path_pattern}\")\n",
        "\n",
        "        flights = g.find(path_pattern).filter(\n",
        "            f\"(v0.Country = '{start_country}') AND (v{i + 1}.Country = '{end_country}')\"\n",
        "        )\n",
        "\n",
        "        filters = create_filters(i)\n",
        "        if filters:\n",
        "            flights = flights.filter(filters)\n",
        "\n",
        "        flights = flights.drop_duplicates()\n",
        "        flights.show()\n",
        "\n",
        "find_routes_motif(\"Poland\", \"Belgium\", 2)\n"
      ],
      "metadata": {
        "id": "DVFnhiWkCh9m",
        "colab": {
          "base_uri": "https://localhost:8080/"
        },
        "outputId": "65f6d0da-f959-498d-d6af-d3c8c77b63cc"
      },
      "execution_count": null,
      "outputs": [
        {
          "output_type": "stream",
          "name": "stdout",
          "text": [
            "Routes for path: (v0)-[e0]->(v1)\n",
            "+--------------------+--------------------+--------------------+\n",
            "|                  v0|                  e0|                  v1|\n",
            "+--------------------+--------------------+--------------------+\n",
            "|{679, Warsaw Chop...|{679, 304, 5461, ...|{304, Brussels So...|\n",
            "|{668, Gdańsk Lech...|{668, 302, 2245, ...|{302, Brussels Ai...|\n",
            "|{8414, Modlin Air...|{8414, 304, 4296,...|{304, Brussels So...|\n",
            "|{669, John Paul I...|{669, 304, 4296, ...|{304, Brussels So...|\n",
            "|{680, Copernicus ...|{680, 302, 2245, ...|{302, Brussels Ai...|\n",
            "|{679, Warsaw Chop...|{679, 302, 3210, ...|{302, Brussels Ai...|\n",
            "+--------------------+--------------------+--------------------+\n",
            "\n",
            "Routes for path: (v0)-[e0]->(v1);(v1)-[e1]->(v2)\n",
            "+--------------------+--------------------+--------------------+--------------------+--------------------+\n",
            "|                  v0|                  e0|                  v1|                  e1|                  v2|\n",
            "+--------------------+--------------------+--------------------+--------------------+--------------------+\n",
            "|{8414, Modlin Air...|{8414, 478, 4296,...|{478, Manchester ...|{478, 304, 4296, ...|{304, Brussels So...|\n",
            "|{8414, Modlin Air...|{8414, 490, 4296,...|{490, Bristol Air...|{490, 302, 1531, ...|{302, Brussels Ai...|\n",
            "|{8414, Modlin Air...|{8414, 1525, 4296...|{1525, Il Caravag...|{1525, 304, 4296,...|{304, Brussels So...|\n",
            "|{8414, Modlin Air...|{8414, 1218, 4296...|{1218, Barcelona ...|{1218, 302, 2660,...|{302, Brussels Ai...|\n",
            "|{669, John Paul I...|{669, 1538, 4296,...|{1538, Bologna Gu...|{1538, 304, 4296,...|{304, Brussels So...|\n",
            "|{679, Warsaw Chop...|{679, 1229, 3210,...|{1229, Adolfo Suá...|{1229, 302, 2822,...|{302, Brussels Ai...|\n",
            "|{679, Warsaw Chop...|{679, 342, 3320, ...|{342, Hamburg Air...|{342, 302, 1531, ...|{302, Brussels Ai...|\n",
            "|{679, Warsaw Chop...|{679, 1590, 5461,...|{1590, Ben Gurion...|{1590, 302, 1531,...|{302, Brussels Ai...|\n",
            "|{679, Warsaw Chop...|{679, 1569, 3210,...|{1569, Ljubljana ...|{1569, 304, 5461,...|{304, Brussels So...|\n",
            "|{674, Poznań-Ławi...|{674, 599, 4296, ...|{599, Dublin Airp...|{599, 302, 837, 7...|{302, Brussels Ai...|\n",
            "|{669, John Paul I...|{669, 346, 3210, ...|{346, Munich Inte...|{346, 302, 1531, ...|{302, Brussels Ai...|\n",
            "|{674, Poznań-Ławi...|{674, 1218, 5461,...|{1218, Barcelona ...|{1218, 302, 2660,...|{302, Brussels Ai...|\n",
            "|{680, Copernicus ...|{680, 609, 4319, ...|{609, Copenhagen ...|{609, 302, 4319, ...|{302, Brussels Ai...|\n",
            "|{669, John Paul I...|{669, 580, 2245, ...|{580, Amsterdam A...|{580, 302, 3090, ...|{302, Brussels Ai...|\n",
            "|{8414, Modlin Air...|{8414, 1212, 4296...|{1212, Alicante I...|{1212, 302, 2822,...|{302, Brussels Ai...|\n",
            "|{680, Copernicus ...|{680, 1212, 4296,...|{1212, Alicante I...|{1212, 302, 1531,...|{302, Brussels Ai...|\n",
            "|{668, Gdańsk Lech...|{668, 8414, 4296,...|{8414, Modlin Air...|{8414, 304, 4296,...|{304, Brussels So...|\n",
            "|{8414, Modlin Air...|{8414, 1218, 4296...|{1218, Barcelona ...|{1218, 302, 4296,...|{302, Brussels Ai...|\n",
            "|{679, Warsaw Chop...|{679, 1218, 3210,...|{1218, Barcelona ...|{1218, 302, 4296,...|{302, Brussels Ai...|\n",
            "|{679, Warsaw Chop...|{679, 1638, 4869,...|{1638, Lisbon Por...|{1638, 302, 2822,...|{302, Brussels Ai...|\n",
            "+--------------------+--------------------+--------------------+--------------------+--------------------+\n",
            "only showing top 20 rows\n",
            "\n",
            "Routes for path: (v0)-[e0]->(v1);(v1)-[e1]->(v2);(v2)-[e2]->(v3)\n",
            "+--------------------+--------------------+--------------------+--------------------+--------------------+--------------------+--------------------+\n",
            "|                  v0|                  e0|                  v1|                  e1|                  v2|                  e2|                  v3|\n",
            "+--------------------+--------------------+--------------------+--------------------+--------------------+--------------------+--------------------+\n",
            "|{669, John Paul I...|{669, 737, 3737, ...|{737, Stockholm-A...|{737, 1638, 4869,...|{1638, Lisbon Por...|{1638, 302, 1531,...|{302, Brussels Ai...|\n",
            "|{669, John Paul I...|{669, 737, 3737, ...|{737, Stockholm-A...|{737, 415, 2218, ...|{415, Lennart Mer...|{415, 302, 2218, ...|{302, Brussels Ai...|\n",
            "|{679, Warsaw Chop...|{679, 737, 3210, ...|{737, Stockholm-A...|{737, 1555, 4319,...|{1555, Leonardo d...|{1555, 302, 4296,...|{302, Brussels Ai...|\n",
            "|{668, Gdańsk Lech...|{668, 580, 2245, ...|{580, Amsterdam A...|{580, 1489, 3090,...|{1489, Budapest F...|{1489, 302, 1531,...|{302, Brussels Ai...|\n",
            "|{668, Gdańsk Lech...|{668, 580, 2245, ...|{580, Amsterdam A...|{580, 1324, 5039,...|{1324, Ajaccio-Na...|{1324, 309, 137, ...|{309, Liège Airpo...|\n",
            "|{668, Gdańsk Lech...|{668, 580, 2245, ...|{580, Amsterdam A...|{580, 4059, 596, ...|{4059, Jomo Kenya...|{4059, 302, 330, ...|{302, Brussels Ai...|\n",
            "|{668, Gdańsk Lech...|{668, 580, 2245, ...|{580, Amsterdam A...|{580, 1335, 137, ...|{1335, Lyon Saint...|{1335, 302, 1203,...|{302, Brussels Ai...|\n",
            "|{669, John Paul I...|{669, 580, 2245, ...|{580, Amsterdam A...|{580, 3714, 5209,...|{3714, Washington...|{3714, 302, 1531,...|{302, Brussels Ai...|\n",
            "|{669, John Paul I...|{669, 580, 2245, ...|{580, Amsterdam A...|{580, 490, 2297, ...|{490, Bristol Air...|{490, 302, 1531, ...|{302, Brussels Ai...|\n",
            "|{669, John Paul I...|{669, 580, 2245, ...|{580, Amsterdam A...|{580, 1636, 4869,...|{1636, Francisco ...|{1636, 302, 4869,...|{302, Brussels Ai...|\n",
            "|{669, John Paul I...|{669, 580, 2245, ...|{580, Amsterdam A...|{580, 1638, 4304,...|{1638, Lisbon Por...|{1638, 302, 2822,...|{302, Brussels Ai...|\n",
            "|{669, John Paul I...|{669, 580, 2245, ...|{580, Amsterdam A...|{580, 1354, 5039,...|{1354, Nice-Côte ...|{1354, 302, 2297,...|{302, Brussels Ai...|\n",
            "|{679, Warsaw Chop...|{679, 580, 3090, ...|{580, Amsterdam A...|{580, 4059, 3090,...|{4059, Jomo Kenya...|{4059, 302, 330, ...|{302, Brussels Ai...|\n",
            "|{679, Warsaw Chop...|{679, 580, 3090, ...|{580, Amsterdam A...|{580, 1230, 2822,...|{1230, Málaga Air...|{1230, 302, 1531,...|{302, Brussels Ai...|\n",
            "|{679, Warsaw Chop...|{679, 580, 3090, ...|{580, Amsterdam A...|{580, 1488, 5039,...|{1488, Dionysios ...|{1488, 304, 4296,...|{304, Brussels So...|\n",
            "|{679, Warsaw Chop...|{679, 580, 3090, ...|{580, Amsterdam A...|{580, 1230, 5039,...|{1230, Málaga Air...|{1230, 302, 1531,...|{302, Brussels Ai...|\n",
            "|{679, Warsaw Chop...|{679, 580, 3090, ...|{580, Amsterdam A...|{580, 2179, 2520,...|{2179, Abu Dhabi ...|{2179, 302, 333, ...|{302, Brussels Ai...|\n",
            "|{679, Warsaw Chop...|{679, 580, 3090, ...|{580, Amsterdam A...|{580, 2179, 333, ...|{2179, Abu Dhabi ...|{2179, 302, 1531,...|{302, Brussels Ai...|\n",
            "|{679, Warsaw Chop...|{679, 580, 3210, ...|{580, Amsterdam A...|{580, 1225, 2822,...|{1225, Ibiza Airp...|{1225, 302, 2684,...|{302, Brussels Ai...|\n",
            "|{679, Warsaw Chop...|{679, 580, 3210, ...|{580, Amsterdam A...|{580, 1212, 2822,...|{1212, Alicante I...|{1212, 302, 2439,...|{302, Brussels Ai...|\n",
            "+--------------------+--------------------+--------------------+--------------------+--------------------+--------------------+--------------------+\n",
            "only showing top 20 rows\n",
            "\n"
          ]
        }
      ]
    },
    {
      "cell_type": "markdown",
      "source": [
        "Let's search for all possible routes using an **iterative approach**."
      ],
      "metadata": {
        "id": "v1blygHTt_EV"
      }
    },
    {
      "cell_type": "code",
      "source": [
        "def find_routes_iterative(start_country, end_country, max_transfers):\n",
        "    start_airports = g.vertices.filter(F.col(\"Country\") == start_country).select(\"id\")\n",
        "\n",
        "    routes = g.edges.join(start_airports, g.edges.src == start_airports.id) \\\n",
        "        .select(F.concat_ws(\"->\", F.col(\"src\"), F.col(\"dst\")).alias(\"path\"), F.col(\"dst\").alias(\"current_airport\"))\n",
        "\n",
        "    for transfer in range(max_transfers):\n",
        "        new_routes = routes.alias(\"r\") \\\n",
        "            .join(g.edges.alias(\"e\"), F.col(\"r.current_airport\") == F.col(\"e.src\")) \\\n",
        "            .select(F.concat_ws(\"->\", F.col(\"r.path\"), F.col(\"e.dst\")).alias(\"path\"),\n",
        "                    F.col(\"e.dst\").alias(\"current_airport\"))\n",
        "\n",
        "        routes = routes.union(new_routes)\n",
        "\n",
        "    end_airports = g.vertices.filter(F.col(\"Country\") == end_country).select(\"id\")\n",
        "\n",
        "    valid_routes = routes.join(end_airports, routes.current_airport == end_airports.id) \\\n",
        "                         .select(\"path\")\n",
        "\n",
        "    valid_routes.drop_duplicates().show(truncate=False)\n",
        "\n",
        "find_routes_iterative(\"Poland\", \"Belgium\", 2)\n"
      ],
      "metadata": {
        "colab": {
          "base_uri": "https://localhost:8080/"
        },
        "id": "wqq5wpiyU7Y6",
        "outputId": "9072c3c0-fab8-415e-f862-16f269899a88"
      },
      "execution_count": null,
      "outputs": [
        {
          "output_type": "stream",
          "name": "stdout",
          "text": [
            "+---------------+\n",
            "|path           |\n",
            "+---------------+\n",
            "|8414->304      |\n",
            "|679->304       |\n",
            "|668->302       |\n",
            "|680->302       |\n",
            "|679->302       |\n",
            "|669->304       |\n",
            "|669->1198->304 |\n",
            "|675->478->302  |\n",
            "|8414->1515->304|\n",
            "|668->478->304  |\n",
            "|669->523->302  |\n",
            "|675->523->302  |\n",
            "|679->3953->302 |\n",
            "|668->535->304  |\n",
            "|680->1606->302 |\n",
            "|679->580->302  |\n",
            "|679->340->302  |\n",
            "|8414->1218->304|\n",
            "|8414->1562->304|\n",
            "|8414->3998->310|\n",
            "+---------------+\n",
            "only showing top 20 rows\n",
            "\n"
          ]
        }
      ]
    },
    {
      "cell_type": "markdown",
      "source": [
        "# **Task 3**\n",
        "Find the airports with the **fewest** and **most** flights."
      ],
      "metadata": {
        "id": "uZBfSQ9Q8tWf"
      }
    },
    {
      "cell_type": "code",
      "source": [
        "outDegrees = g.outDegrees\n",
        "inDegress = g.inDegrees\n",
        "\n",
        "totalDegrees = outDegrees.join(inDegress, \"id\", \"outer\") \\\n",
        "    .na.fill(0, [\"outDegree\", \"inDegree\"]) \\\n",
        "    .withColumn(\"totalDegree\", F.col(\"outDegree\") + F.col(\"inDegree\"))\n",
        "\n",
        "maxDegreeValue = totalDegrees.agg(F.max(\"totalDegree\")).collect()[0][0]\n",
        "minDegreeValue = totalDegrees.agg(F.min(\"totalDegree\")).collect()[0][0]\n",
        "\n",
        "maxDegreeVertices = totalDegrees.filter(F.col(\"totalDegree\") == maxDegreeValue)\n",
        "minDegreeVertices = totalDegrees.filter(F.col(\"totalDegree\") == minDegreeValue)"
      ],
      "metadata": {
        "id": "U-Nxl6pc84Lj"
      },
      "execution_count": null,
      "outputs": []
    },
    {
      "cell_type": "markdown",
      "source": [
        "Airports with the **fewest** flights."
      ],
      "metadata": {
        "id": "RSSuK18DHqsH"
      }
    },
    {
      "cell_type": "code",
      "source": [
        "minDegreeVertices.join(airports, maxDegreeVertices.id == airports.AirportId) \\\n",
        "  .select(\"AirportId\", \"Name\", F.col(\"totalDegree\").alias(\"RoutesCount\")).show()"
      ],
      "metadata": {
        "colab": {
          "base_uri": "https://localhost:8080/"
        },
        "id": "jI8ZnS-8HtXT",
        "outputId": "32bb5d99-0efe-4be7-fde0-f15536c412f8"
      },
      "execution_count": null,
      "outputs": [
        {
          "output_type": "stream",
          "name": "stdout",
          "text": [
            "+---------+--------------------+-----------+\n",
            "|AirportId|                Name|RoutesCount|\n",
            "+---------+--------------------+-----------+\n",
            "|     1040|     Kalemie Airport|          1|\n",
            "|     1463|    Filippos Airport|          1|\n",
            "|     1602|Ovda Internationa...|          1|\n",
            "|     2697|Teniente Coronel ...|          1|\n",
            "|     3968|Massawa Internati...|          1|\n",
            "|     4125|       Utila Airport|          1|\n",
            "|     5653|       Lodja Airport|          1|\n",
            "|     5884|Niue Internationa...|          1|\n",
            "|     6321|    Portland Airport|          1|\n",
            "|     6372| Dalanzadgad Airport|          1|\n",
            "|     6766| Port Heiden Airport|          1|\n",
            "|     7152|North Whale Seapl...|          1|\n",
            "|     7158| Pilot Point Airport|          1|\n",
            "|     7161|      Karluk Airport|          1|\n",
            "|     7172|Port Williams Sea...|          1|\n",
            "|     7176|Zachar Bay Seapla...|          1|\n",
            "|     7369|Santana do Aragua...|          1|\n",
            "|     7370|      Breves Airport|          1|\n",
            "|     7374|Santa Terezinha A...|          1|\n",
            "|     8207|    Mulatupo Airport|          1|\n",
            "+---------+--------------------+-----------+\n",
            "only showing top 20 rows\n",
            "\n"
          ]
        }
      ]
    },
    {
      "cell_type": "markdown",
      "source": [
        "Airports with the **most** flights."
      ],
      "metadata": {
        "id": "srDtnCXKHiye"
      }
    },
    {
      "cell_type": "code",
      "source": [
        "maxDegreeVertices.join(airports, maxDegreeVertices.id == airports.AirportId) \\\n",
        "  .select(\"AirportId\", \"Name\", F.col(\"totalDegree\").alias(\"RoutesCount\")).show()"
      ],
      "metadata": {
        "colab": {
          "base_uri": "https://localhost:8080/"
        },
        "id": "FsIKh8OcHnMQ",
        "outputId": "c1539a08-76d4-427a-e06a-d0d5d48140e1"
      },
      "execution_count": null,
      "outputs": [
        {
          "output_type": "stream",
          "name": "stdout",
          "text": [
            "+---------+--------------------+-----------+\n",
            "|AirportId|                Name|RoutesCount|\n",
            "+---------+--------------------+-----------+\n",
            "|     3682|Hartsfield Jackso...|       1826|\n",
            "+---------+--------------------+-----------+\n",
            "\n"
          ]
        }
      ]
    },
    {
      "cell_type": "markdown",
      "source": [
        "# **Task 4**\n",
        "Find the **shortest** and **longest** route between two given airports, considering the flight **distance** as the route length. The search should include routes with **layovers** (up to **4 stopovers**, meaning a maximum of **5 flights**)."
      ],
      "metadata": {
        "id": "uuhu09rNH4lP"
      }
    },
    {
      "cell_type": "code",
      "source": [
        "def find_routes_with_bfs(source_airport_iata, destination_airport_iata, max_transfers):\n",
        "    possible_routes = g.bfs(\n",
        "        fromExpr=f\"IATA = '{source_airport_iata}'\",\n",
        "        toExpr=f\"IATA = '{destination_airport_iata}'\",\n",
        "        maxPathLength=max_transfers + 1\n",
        "    )\n",
        "\n",
        "    distance_columns = [f\"e{i}\" for i in range(max_transfers + 1) if f\"e{i}\" in possible_routes.columns]\n",
        "\n",
        "    routes_with_total_distance = possible_routes.withColumn(\n",
        "        \"total_distance\",\n",
        "        sum(F.expr(f\"{col}['Distance']\") for col in distance_columns)\n",
        "    )\n",
        "\n",
        "    shortest_route = routes_with_total_distance.orderBy(F.col(\"total_distance\").asc()).first()\n",
        "\n",
        "    print(f\"Shortest route distance: {shortest_route['total_distance']} km\")\n",
        "    print(shortest_route)\n",
        "\n",
        "\n",
        "def find_routes(source_airport_iata, destination_airport_iata, max_transfers):\n",
        "    path_patterns = []\n",
        "    filters = []\n",
        "\n",
        "    for i in range(max_transfers + 1):\n",
        "        path_pattern = \";\".join(f\"(v{j})-[e{j}]->(v{j + 1})\" for j in range(i + 1))\n",
        "        path_patterns.append(path_pattern)\n",
        "\n",
        "        filter_condition = \" AND \".join(f\"v{j + 1} != v{j - 1}\" for j in range(1, i + 1))\n",
        "        filters.append(filter_condition)\n",
        "\n",
        "    global_shortest_distance = None\n",
        "    global_longest_distance = None\n",
        "\n",
        "    for i, path_pattern in enumerate(path_patterns):\n",
        "        possible_routes = g.find(path_pattern) \\\n",
        "            .filter(F.col(\"v0.IATA\") == source_airport_iata) \\\n",
        "            .filter(F.col(f\"v{i + 1}.IATA\") == destination_airport_iata)\n",
        "\n",
        "        if filters[i]:\n",
        "            possible_routes = possible_routes.filter(filters[i])\n",
        "\n",
        "        distance_columns = [f\"e{j}\" for j in range(i + 1) if f\"e{j}\" in possible_routes.columns]\n",
        "\n",
        "        routes_with_total_distance = possible_routes.withColumn(\n",
        "            \"total_distance\",\n",
        "            sum(F.expr(f\"{col}['Distance']\") for col in distance_columns)\n",
        "        )\n",
        "\n",
        "        shortest_distance = routes_with_total_distance.orderBy(F.col(\"total_distance\").asc()).first()\n",
        "        if global_shortest_distance is None or global_shortest_distance[\"total_distance\"] > shortest_distance[\"total_distance\"]:\n",
        "            global_shortest_distance = shortest_distance\n",
        "\n",
        "        longest_distance = routes_with_total_distance.orderBy(F.col(\"total_distance\").desc()).first()\n",
        "        if global_longest_distance is None or global_longest_distance[\"total_distance\"] < longest_distance[\"total_distance\"]:\n",
        "            global_longest_distance = longest_distance\n",
        "\n",
        "\n",
        "    print(f\"Shortest route distance: {global_shortest_distance['total_distance']} km\")\n",
        "    print(global_shortest_distance)\n",
        "    print(f\"Longest route distance: {global_longest_distance['total_distance']} km\")\n",
        "    print(global_longest_distance)\n"
      ],
      "metadata": {
        "id": "igd2iUMfYu8G"
      },
      "execution_count": null,
      "outputs": []
    },
    {
      "cell_type": "markdown",
      "source": [
        "The **shortest path** found using the **BFS algorithm**:"
      ],
      "metadata": {
        "id": "DOYzuINDAcBx"
      }
    },
    {
      "cell_type": "code",
      "source": [
        "find_routes_with_bfs(\"KBP\", \"FLR\", 3)"
      ],
      "metadata": {
        "colab": {
          "base_uri": "https://localhost:8080/"
        },
        "id": "MoaqEO8pZzP2",
        "outputId": "30f2e12d-3fc4-4f65-dd1f-f66439a54914"
      },
      "execution_count": null,
      "outputs": [
        {
          "output_type": "stream",
          "name": "stdout",
          "text": [
            "Shortest route distance: 1700.271218171912 km\n",
            "Row(from=Row(id=2939, Name='Boryspil International Airport', City='Kiev', Country='Ukraine', IATA='KBP', ICAO='UKBB', Latitude=50.345001220703125, Longitude=30.894699096679688, Altitude=427, Timezone='2', DST='E', TimezoneName='Europe/Kiev', Type='airport', Source='OurAirports'), e0=Row(src='2939', dst='1613', AirlineId='5282', Distance=1067.6599203771211), v1=Row(id=1613, Name='Vienna International Airport', City='Vienna', Country='Austria', IATA='VIE', ICAO='LOWW', Latitude=48.110298156738, Longitude=16.569700241089, Altitude=600, Timezone='1', DST='E', TimezoneName='Europe/Vienna', Type='airport', Source='OurAirports'), e1=Row(src='1613', dst='1563', AirlineId='214', Distance=632.611297794791), to=Row(id=1563, Name='Peretola Airport', City='Florence', Country='Italy', IATA='FLR', ICAO='LIRQ', Latitude=43.810001, Longitude=11.2051, Altitude=142, Timezone='1', DST='E', TimezoneName='Europe/Rome', Type='airport', Source='OurAirports'), total_distance=1700.271218171912)\n"
          ]
        }
      ]
    },
    {
      "cell_type": "markdown",
      "source": [
        "The **shortest and longest paths** found using the **motif approach**:"
      ],
      "metadata": {
        "id": "15iHVuV9F7Rc"
      }
    },
    {
      "cell_type": "code",
      "source": [
        "find_routes(\"KBP\", \"FLR\", 3)"
      ],
      "metadata": {
        "colab": {
          "base_uri": "https://localhost:8080/"
        },
        "id": "hP6IP2j4AEzD",
        "outputId": "4ce0c6dd-9dc9-4eeb-92c5-da5e05cb2eb4"
      },
      "execution_count": null,
      "outputs": [
        {
          "output_type": "stream",
          "name": "stdout",
          "text": [
            "Shortest route distance: 1700.271218171912 km\n",
            "Row(v0=Row(id=2939, Name='Boryspil International Airport', City='Kiev', Country='Ukraine', IATA='KBP', ICAO='UKBB', Latitude=50.345001220703125, Longitude=30.894699096679688, Altitude=427, Timezone='2', DST='E', TimezoneName='Europe/Kiev', Type='airport', Source='OurAirports'), e0=Row(src='2939', dst='1613', AirlineId='491', Distance=1067.6599203771211), v1=Row(id=1613, Name='Vienna International Airport', City='Vienna', Country='Austria', IATA='VIE', ICAO='LOWW', Latitude=48.110298156738, Longitude=16.569700241089, Altitude=600, Timezone='1', DST='E', TimezoneName='Europe/Vienna', Type='airport', Source='OurAirports'), e1=Row(src='1613', dst='1563', AirlineId='491', Distance=632.611297794791), v2=Row(id=1563, Name='Peretola Airport', City='Florence', Country='Italy', IATA='FLR', ICAO='LIRQ', Latitude=43.810001, Longitude=11.2051, Altitude=142, Timezone='1', DST='E', TimezoneName='Europe/Rome', Type='airport', Source='OurAirports'), total_distance=1700.271218171912)\n",
            "Longest route distance: 30972.39844871822 km\n",
            "Row(v0=Row(id=2939, Name='Boryspil International Airport', City='Kiev', Country='Ukraine', IATA='KBP', ICAO='UKBB', Latitude=50.345001220703125, Longitude=30.894699096679688, Altitude=427, Timezone='2', DST='E', TimezoneName='Europe/Kiev', Type='airport', Source='OurAirports'), e0=Row(src='2939', dst='3797', AirlineId='5282', Distance=7532.6130196014), v1=Row(id=3797, Name='John F Kennedy International Airport', City='New York', Country='United States', IATA='JFK', ICAO='KJFK', Latitude=40.63980103, Longitude=-73.77890015, Altitude=13, Timezone='-5', DST='A', TimezoneName='America/New_York', Type='airport', Source='OurAirports'), e1=Row(src='3797', dst='3077', AirlineId='1680', Distance=12970.381075397645), v2=Row(id=3077, Name='Chek Lap Kok International Airport', City='Hong Kong', Country='Hong Kong', IATA='HKG', ICAO='VHHH', Latitude=22.3089008331, Longitude=113.915000916, Altitude=28, Timezone='8', DST='U', TimezoneName='Asia/Hong_Kong', Type='airport', Source='OurAirports'), e2=Row(src='3077', dst='1382', AirlineId='1680', Distance=9590.058170737511), v3=Row(id=1382, Name='Charles de Gaulle International Airport', City='Paris', Country='France', IATA='CDG', ICAO='LFPG', Latitude=49.0127983093, Longitude=2.54999995232, Altitude=392, Timezone='1', DST='E', TimezoneName='Europe/Paris', Type='airport', Source='OurAirports'), e3=Row(src='1382', dst='1563', AirlineId='596', Distance=879.3461829816616), v4=Row(id=1563, Name='Peretola Airport', City='Florence', Country='Italy', IATA='FLR', ICAO='LIRQ', Latitude=43.810001, Longitude=11.2051, Altitude=142, Timezone='1', DST='E', TimezoneName='Europe/Rome', Type='airport', Source='OurAirports'), total_distance=30972.39844871822)\n"
          ]
        }
      ]
    },
    {
      "cell_type": "markdown",
      "source": [
        "# **Task 5**\n",
        "Identify large airport clusters (at least 5 airports) based on flight connections. Then, analyze the results of clustering.."
      ],
      "metadata": {
        "id": "PoxSOs4IH85R"
      }
    },
    {
      "cell_type": "code",
      "source": [
        "communities = g.labelPropagation(maxIter=10)\n",
        "\n",
        "community_sizes = communities.groupBy(\"label\").agg(F.count(\"id\").alias(\"size\"))\n",
        "\n",
        "print(\"The list of  graphs clusters and their sizes\");\n",
        "community_sizes.filter(F.col(\"size\") >= 5).orderBy(F.col(\"size\").asc()).show()\n",
        "\n",
        "large_communities = communities.join(\n",
        "    community_sizes.filter(F.col(\"size\") >= 5),\n",
        "    on=\"label\"\n",
        ")\n",
        "\n",
        "large_communities_summary = large_communities.select(\"label\", \"IATA\", \"size\") \\\n",
        "    .groupBy(\"label\").agg(\n",
        "        F.concat_ws(\" \", F.collect_set(\"IATA\")).alias(\"airports\"),\n",
        "        F.max(\"size\").alias(\"size\")\n",
        "    ).orderBy(F.col(\"size\").asc(), F.col(\"label\").asc())\n",
        "\n",
        "large_communities_summary.show(truncate=False)\n"
      ],
      "metadata": {
        "colab": {
          "base_uri": "https://localhost:8080/"
        },
        "id": "ahEhe1UifKOL",
        "outputId": "adb7d43e-24f3-4901-ce2c-cf47855724f2"
      },
      "execution_count": null,
      "outputs": [
        {
          "output_type": "stream",
          "name": "stdout",
          "text": [
            "Список кластерів графа і їх розмірів:\n",
            "+-----+----+\n",
            "|label|size|\n",
            "+-----+----+\n",
            "| 7424|   5|\n",
            "|  897|   5|\n",
            "| 1638|   5|\n",
            "| 7239|   5|\n",
            "| 3794|   6|\n",
            "| 7111|   6|\n",
            "| 3043|   6|\n",
            "| 5520|   6|\n",
            "| 3322|   6|\n",
            "| 3576|   6|\n",
            "|  155|   6|\n",
            "|  916|   6|\n",
            "| 2851|   6|\n",
            "| 3304|   6|\n",
            "| 3615|   7|\n",
            "|  532|   7|\n",
            "|  149|   7|\n",
            "| 7146|   7|\n",
            "| 6374|   7|\n",
            "| 2003|   7|\n",
            "+-----+----+\n",
            "only showing top 20 rows\n",
            "\n",
            "+-----+---------------------------+----+\n",
            "|label|airports                   |size|\n",
            "+-----+---------------------------+----+\n",
            "|897  |POG DLA MDK GOU LJA        |5   |\n",
            "|1638 |FMI TSH GOM KGA BKY        |5   |\n",
            "|7239 |SLQ RDV CKD CHU SRV        |5   |\n",
            "|7424 |KTL MRE LKG ASV UKA        |5   |\n",
            "|155  |YUB YSY YPC YGH ZFM YVQ    |6   |\n",
            "|916  |RRG RUN TNR ZSE WMR TLE    |6   |\n",
            "|2851 |SNV CAJ VLN PZO CCS PBL    |6   |\n",
            "|3043 |DIB IXS GAU PBH CCU IMF    |6   |\n",
            "|3304 |LBP LKH BBN LGL MUR ODN    |6   |\n",
            "|3322 |AUU KWM ONG EDR IRG CUQ    |6   |\n",
            "|3576 |TME RVE ACR LET SVI LCR    |6   |\n",
            "|3794 |EGX KCL WSN IGG KPV AKN    |6   |\n",
            "|5520 |YQC AKV YPH XGR YTQ YZG    |6   |\n",
            "|7111 |HUS GAL NUL HSL KYU KAL    |6   |\n",
            "|149  |YUY YKU YMO ZEM YPO YMT ZKE|7   |\n",
            "|169  |KEW YRL YPM YHP ZSJ YNO YVZ|7   |\n",
            "|532  |KOI NRL PPW EOI SOY NDY WRY|7   |\n",
            "|2003 |TGJ TOU KNQ ILP KOC MEE UVE|7   |\n",
            "|3615 |WAA UNK KKA OME SKK GLV SMK|7   |\n",
            "|6374 |COQ ULO BYN MXV HVD DLZ ULG|7   |\n",
            "+-----+---------------------------+----+\n",
            "only showing top 20 rows\n",
            "\n"
          ]
        }
      ]
    },
    {
      "cell_type": "markdown",
      "source": [
        "Airports clusters:"
      ],
      "metadata": {
        "id": "8IO5djVA4LKN"
      }
    },
    {
      "cell_type": "code",
      "source": [
        "large_communities_summary.show(truncate=False)"
      ],
      "metadata": {
        "colab": {
          "base_uri": "https://localhost:8080/"
        },
        "id": "2Yrc3gDI4O3_",
        "outputId": "172b7230-1709-46d5-ec36-8fe3f1d68fe7"
      },
      "execution_count": null,
      "outputs": [
        {
          "output_type": "stream",
          "name": "stdout",
          "text": [
            "+-----+---------------------------+----+\n",
            "|label|airports                   |size|\n",
            "+-----+---------------------------+----+\n",
            "|897  |POG DLA GOU LJA MDK        |5   |\n",
            "|1638 |FMI TSH GOM KGA BKY        |5   |\n",
            "|7239 |SLQ RDV CKD CHU SRV        |5   |\n",
            "|7424 |KTL MRE LKG ASV UKA        |5   |\n",
            "|155  |YUB YSY YPC YGH ZFM YVQ    |6   |\n",
            "|916  |RRG RUN ZSE TNR WMR TLE    |6   |\n",
            "|2851 |SNV CAJ VLN PZO CCS PBL    |6   |\n",
            "|3043 |DIB IXS GAU PBH CCU IMF    |6   |\n",
            "|3304 |BBN LBP LKH LGL MUR ODN    |6   |\n",
            "|3322 |AUU KWM ONG EDR CUQ IRG    |6   |\n",
            "|3576 |TME RVE ACR LET SVI LCR    |6   |\n",
            "|3794 |EGX KCL WSN IGG KPV AKN    |6   |\n",
            "|5520 |YQC AKV YPH YTQ XGR YZG    |6   |\n",
            "|7111 |HUS GAL NUL HSL KYU KAL    |6   |\n",
            "|149  |YKU YUY YMO ZEM YPO YMT ZKE|7   |\n",
            "|169  |KEW YRL YHP ZSJ YPM YNO YVZ|7   |\n",
            "|532  |KOI NRL PPW EOI SOY NDY WRY|7   |\n",
            "|2003 |TGJ TOU KNQ ILP KOC MEE UVE|7   |\n",
            "|3615 |WAA UNK KKA OME SKK GLV SMK|7   |\n",
            "|6374 |COQ ULO BYN MXV HVD DLZ ULG|7   |\n",
            "+-----+---------------------------+----+\n",
            "only showing top 20 rows\n",
            "\n"
          ]
        }
      ]
    },
    {
      "cell_type": "markdown",
      "source": [
        "# **Task 6**\n",
        "Find subgraphs with at least 2 nodes that are connected to each other but have no connections to other airports."
      ],
      "metadata": {
        "id": "YM2qaaDZIG6t"
      }
    },
    {
      "cell_type": "code",
      "source": [
        "\n",
        "spark.sparkContext.setCheckpointDir(dirName=\"/content/temp/graphframes_cps\")\n",
        "\n",
        "components = g.connectedComponents()\n",
        "\n",
        "component_sizes = components.groupBy(\"component\").agg(F.count(\"id\").alias(\"size\")) \\\n",
        "    .filter(F.col(\"size\") >= 2)\n",
        "\n",
        "\n",
        "print(\"Список компонентів графа і їх розмірів:\")\n",
        "component_sizes.orderBy(F.col(\"component\").asc()).show()\n",
        "\n",
        "\n",
        "subgraphs = components.join(F.broadcast(component_sizes), on=\"component\") \\\n",
        "    .select(\"component\", \"IATA\", \"size\") \\\n",
        "    .groupBy(\"component\").agg(\n",
        "        F.concat_ws(\" \", F.collect_set(\"IATA\")).alias(\"airports\"),\n",
        "        F.max(\"size\").alias(\"size\")\n",
        "    ).orderBy(F.col(\"size\").asc(), F.col(\"component\").asc())\n",
        "\n",
        "subgraphs.show(truncate=False)\n"
      ],
      "metadata": {
        "colab": {
          "base_uri": "https://localhost:8080/"
        },
        "id": "Maln5wCRJcIp",
        "outputId": "a5e5cf9e-4c31-4933-88b5-aa4a185f75c6"
      },
      "execution_count": null,
      "outputs": [
        {
          "output_type": "stream",
          "name": "stdout",
          "text": [
            "Список компонентів графа і їх розмірів:\n",
            "+---------+----+\n",
            "|component|size|\n",
            "+---------+----+\n",
            "|        1|3304|\n",
            "|     1998|  10|\n",
            "|     3726|   4|\n",
            "|     3860|   4|\n",
            "|     5642|   4|\n",
            "|     6448|   2|\n",
            "|     7309|   2|\n",
            "+---------+----+\n",
            "\n",
            "+---------+---------------------------------------------------------------------------------------------------------------------------------------------------------------------------------------------------------------------------------------------------------------------------------------------------------------------------------------------------------------------------------------------------------------------------------------------------------------------------------------------------------------------------------------------------------------------------------------------------------------------------------------------------------------------------------------------------------------------------------------------------------------------------------------------------------------------------------------------------------------------------------------------------------------------------------------------------------------------------------------------------------------------------------------------------------------------------------------------------------------------------------------------------------------------------------------------------------------------------------------------------------------------------------------------------------------------------------------------------------------------------------------------------------------------------------------------------------------------------------------------------------------------------------------------------------------------------------------------------------------------------------------------------------------------------------------------------------------------------------------------------------------------------------------------------------------------------------------------------------------------------------------------------------------------------------------------------------------------------------------------------------------------------------------------------------------------------------------------------------------------------------------------------------------------------------------------------------------------------------------------------------------------------------------------------------------------------------------------------------------------------------------------------------------------------------------------------------------------------------------------------------------------------------------------------------------------------------------------------------------------------------------------------------------------------------------------------------------------------------------------------------------------------------------------------------------------------------------------------------------------------------------------------------------------------------------------------------------------------------------------------------------------------------------------------------------------------------------------------------------------------------------------------------------------------------------------------------------------------------------------------------------------------------------------------------------------------------------------------------------------------------------------------------------------------------------------------------------------------------------------------------------------------------------------------------------------------------------------------------------------------------------------------------------------------------------------------------------------------------------------------------------------------------------------------------------------------------------------------------------------------------------------------------------------------------------------------------------------------------------------------------------------------------------------------------------------------------------------------------------------------------------------------------------------------------------------------------------------------------------------------------------------------------------------------------------------------------------------------------------------------------------------------------------------------------------------------------------------------------------------------------------------------------------------------------------------------------------------------------------------------------------------------------------------------------------------------------------------------------------------------------------------------------------------------------------------------------------------------------------------------------------------------------------------------------------------------------------------------------------------------------------------------------------------------------------------------------------------------------------------------------------------------------------------------------------------------------------------------------------------------------------------------------------------------------------------------------------------------------------------------------------------------------------------------------------------------------------------------------------------------------------------------------------------------------------------------------------------------------------------------------------------------------------------------------------------------------------------------------------------------------------------------------------------------------------------------------------------------------------------------------------------------------------------------------------------------------------------------------------------------------------------------------------------------------------------------------------------------------------------------------------------------------------------------------------------------------------------------------------------------------------------------------------------------------------------------------------------------------------------------------------------------------------------------------------------------------------------------------------------------------------------------------------------------------------------------------------------------------------------------------------------------------------------------------------------------------------------------------------------------------------------------------------------------------------------------------------------------------------------------------------------------------------------------------------------------------------------------------------------------------------------------------------------------------------------------------------------------------------------------------------------------------------------------------------------------------------------------------------------------------------------------------------------------------------------------------------------------------------------------------------------------------------------------------------------------------------------------------------------------------------------------------------------------------------------------------------------------------------------------------------------------------------------------------------------------------------------------------------------------------------------------------------------------------------------------------------------------------------------------------------------------------------------------------------------------------------------------------------------------------------------------------------------------------------------------------------------------------------------------------------------------------------------------------------------------------------------------------------------------------------------------------------------------------------------------------------------------------------------------------------------------------------------------------------------------------------------------------------------------------------------------------------------------------------------------------------------------------------------------------------------------------------------------------------------------------------------------------------------------------------------------------------------------------------------------------------------------------------------------------------------------------------------------------------------------------------------------------------------------------------------------------------------------------------------------------------------------------------------------------------------------------------------------------------------------------------------------------------------------------------------------------------------------------------------------------------------------------------------------------------------------------------------------------------------------------------------------------------------------------------------------------------------------------------------------------------------------------------------------------------------------------------------------------------------------------------------------------------------------------------------------------------------------------------------------------------------------------------------------------------------------------------------------------------------------------------------------------------------------------------------------------------------------------------------------------------------------------------------------------------------------------------------------------------------------------------------------------------------------------------------------------------------------------------------------------------------------------------------------------------------------------------------------------------------------------------------------------------------------------------------------------------------------------------------------------------------------------------------------------------------------------------------------------------------------------------------------------------------------------------------------------------------------------------------------------------------------------------------------------------------------------------------------------------------------------------------------------------------------------------------------------------------------------------------------------------------------------------------------------------------------------------------------------------------------------------------------------------------------------------------------------------------------------------------------------------------------------------------------------------------------------------------------------------------------------------------------------------------------------------------------------------------------------------------------------------------------------------------------------------------------------------------------------------------------------------------------------------------------------------------------------------------------------------------------------------------------------------------------------------------------------------------------------------------------------------------------------------------------------------------------------------------------------------------------------------------------------------------------------------------------------------------------------------------------------------------------------------------------------------------------------------------------------------------------------------------------------------------------------------------------------------------------------------------------------------------------------------------------------------------------------------------------------------------------------------------------------------------------------------------------------------------------------------------------------------------------------------------------------------------------------------------------------------------------------------------------------------------------------------------------------------------------------------------------------------------------------------------------------------------------------------------------------------------------------------------------------------------------------------------------------------------------------------------------------------------------------------------------------------------------------------------------------------------------------------------------------------------------------------------------------------------------------------------------------------------------------------------------------------------------------------------------------------------------------------------------------------------------------------------------------------------------------------------------------------------------------------------------------------+----+\n",
            "|component|airports                                                                                                                                                                                                                                                                                                                                                                                                                                                                                                                                                                                                                                                                                                                                                                                                                                                                                                                                                                                                                                                                                                                                                                                                                                                                                                                                                                                                                                                                                                                                                                                                                                                                                                                                                                                                                                                                                                                                                                                                                                                                                                                                                                                                                                                                                                                                                                                                                                                                                                                                                                                                                                                                                                                                                                                                                                                                                                                                                                                                                                                                                                                                                                                                                                                                                                                                                                                                                                                                                                                                                                                                                                                                                                                                                                                                                                                                                                                                                                                                                                                                                                                                                                                                                                                                                                                                                                                                                                                                                                                                                                                                                                                                                                                                                                                                                                                                                                                                                                                                                                                                                                                                                                                                                                                                                                                                                                                                                                                                                                                                                                                                                                                                                                                                                                                                                                                                                                                                                                                                                                                                                                                                                                                                                                                                                                                                                                                                                                                                                                                                                                                                                                                                                                                                                                                                                                                                                                                                                                                                                                                                                                                                                                                                                                                                                                                                                                                                                                                                                                                                                                                                                                                                                                                                                                                                                                                                                                                                                                                                                                                                                                                                                                                                                                                                                                                                                                                                                                                                                                                                                                                                                                                                                                                                                                                                                                                                                                                                                                                                                                                                                                                                                                                                                                                                                                                                                                                                                                                                                                                                                                                                                                                                                                                                                                                                                                                                                                                                                                                                                                                                                                                                                                                                                                                                                                                                                                                                                                                                                                                                                                                                                                                                                                                                                                                                                                                                                                                                                                                                                                                                                                                                                                                                                                                                                                                                                                                                                                                                                                                                                                                                                                                                                                                                                                                                                                                                                                                                                                                                                                                                                                                                                                                                                                                                                                                                                                                                                                                                                                                                                                                                                                                                                                                                                                                                                                                                                                                                                                                                                                                                                                                                                                                                                                                                                                                                                                                                                                                                                                                                                                                                                                                                                                                                                       |size|\n",
            "+---------+---------------------------------------------------------------------------------------------------------------------------------------------------------------------------------------------------------------------------------------------------------------------------------------------------------------------------------------------------------------------------------------------------------------------------------------------------------------------------------------------------------------------------------------------------------------------------------------------------------------------------------------------------------------------------------------------------------------------------------------------------------------------------------------------------------------------------------------------------------------------------------------------------------------------------------------------------------------------------------------------------------------------------------------------------------------------------------------------------------------------------------------------------------------------------------------------------------------------------------------------------------------------------------------------------------------------------------------------------------------------------------------------------------------------------------------------------------------------------------------------------------------------------------------------------------------------------------------------------------------------------------------------------------------------------------------------------------------------------------------------------------------------------------------------------------------------------------------------------------------------------------------------------------------------------------------------------------------------------------------------------------------------------------------------------------------------------------------------------------------------------------------------------------------------------------------------------------------------------------------------------------------------------------------------------------------------------------------------------------------------------------------------------------------------------------------------------------------------------------------------------------------------------------------------------------------------------------------------------------------------------------------------------------------------------------------------------------------------------------------------------------------------------------------------------------------------------------------------------------------------------------------------------------------------------------------------------------------------------------------------------------------------------------------------------------------------------------------------------------------------------------------------------------------------------------------------------------------------------------------------------------------------------------------------------------------------------------------------------------------------------------------------------------------------------------------------------------------------------------------------------------------------------------------------------------------------------------------------------------------------------------------------------------------------------------------------------------------------------------------------------------------------------------------------------------------------------------------------------------------------------------------------------------------------------------------------------------------------------------------------------------------------------------------------------------------------------------------------------------------------------------------------------------------------------------------------------------------------------------------------------------------------------------------------------------------------------------------------------------------------------------------------------------------------------------------------------------------------------------------------------------------------------------------------------------------------------------------------------------------------------------------------------------------------------------------------------------------------------------------------------------------------------------------------------------------------------------------------------------------------------------------------------------------------------------------------------------------------------------------------------------------------------------------------------------------------------------------------------------------------------------------------------------------------------------------------------------------------------------------------------------------------------------------------------------------------------------------------------------------------------------------------------------------------------------------------------------------------------------------------------------------------------------------------------------------------------------------------------------------------------------------------------------------------------------------------------------------------------------------------------------------------------------------------------------------------------------------------------------------------------------------------------------------------------------------------------------------------------------------------------------------------------------------------------------------------------------------------------------------------------------------------------------------------------------------------------------------------------------------------------------------------------------------------------------------------------------------------------------------------------------------------------------------------------------------------------------------------------------------------------------------------------------------------------------------------------------------------------------------------------------------------------------------------------------------------------------------------------------------------------------------------------------------------------------------------------------------------------------------------------------------------------------------------------------------------------------------------------------------------------------------------------------------------------------------------------------------------------------------------------------------------------------------------------------------------------------------------------------------------------------------------------------------------------------------------------------------------------------------------------------------------------------------------------------------------------------------------------------------------------------------------------------------------------------------------------------------------------------------------------------------------------------------------------------------------------------------------------------------------------------------------------------------------------------------------------------------------------------------------------------------------------------------------------------------------------------------------------------------------------------------------------------------------------------------------------------------------------------------------------------------------------------------------------------------------------------------------------------------------------------------------------------------------------------------------------------------------------------------------------------------------------------------------------------------------------------------------------------------------------------------------------------------------------------------------------------------------------------------------------------------------------------------------------------------------------------------------------------------------------------------------------------------------------------------------------------------------------------------------------------------------------------------------------------------------------------------------------------------------------------------------------------------------------------------------------------------------------------------------------------------------------------------------------------------------------------------------------------------------------------------------------------------------------------------------------------------------------------------------------------------------------------------------------------------------------------------------------------------------------------------------------------------------------------------------------------------------------------------------------------------------------------------------------------------------------------------------------------------------------------------------------------------------------------------------------------------------------------------------------------------------------------------------------------------------------------------------------------------------------------------------------------------------------------------------------------------------------------------------------------------------------------------------------------------------------------------------------------------------------------------------------------------------------------------------------------------------------------------------------------------------------------------------------------------------------------------------------------------------------------------------------------------------------------------------------------------------------------------------------------------------------------------------------------------------------------------------------------------------------------------------------------------------------------------------------------------------------------------------------------------------------------------------------------------------------------------------------------------------------------------------------------------------------------------------------------------------------------------------------------------------------------------------------------------------------------------------------------------------------------------------------------------------------------------------------------------------------------------------------------------------------------------------------------------------------------------------------------------------------------------------------------------------------------------------------------------------------------------------------------------------------------------------------------------------------------------------------------------------------------------------------------------------------------------------------------------------------------------------------------------------------------------------------------------------------------------------------------------------------------------------------------------------------------------------------------------------------------------------------------------------------------------------------------------------------------------------------------------------------------------------------------------------------------------------------------------------------------------------------------------------------------------------------------------------------------------------------------------------------------------------------------------------------------------------------------------------------------------------------------------------------------------------------------------------------------------------------------------------------------------------------------------------------------------------------------------------------------------------------------------------------------------------------------------------------------------------------------------------------------------------------------------------------------------------------------------------------------------------------------------------------------------------------------------------------------------------------------------------------------------------------------------------------------------------------------------------------------------------------------------------------------------------------------------------------------------------------------------------------------------------------------------------------------------------------------------------------------------------------------------------------------------------------------------------------------------------------------------------------------------+----+\n",
            "|6448     |GCW BLD                                                                                                                                                                                                                                                                                                                                                                                                                                                                                                                                                                                                                                                                                                                                                                                                                                                                                                                                                                                                                                                                                                                                                                                                                                                                                                                                                                                                                                                                                                                                                                                                                                                                                                                                                                                                                                                                                                                                                                                                                                                                                                                                                                                                                                                                                                                                                                                                                                                                                                                                                                                                                                                                                                                                                                                                                                                                                                                                                                                                                                                                                                                                                                                                                                                                                                                                                                                                                                                                                                                                                                                                                                                                                                                                                                                                                                                                                                                                                                                                                                                                                                                                                                                                                                                                                                                                                                                                                                                                                                                                                                                                                                                                                                                                                                                                                                                                                                                                                                                                                                                                                                                                                                                                                                                                                                                                                                                                                                                                                                                                                                                                                                                                                                                                                                                                                                                                                                                                                                                                                                                                                                                                                                                                                                                                                                                                                                                                                                                                                                                                                                                                                                                                                                                                                                                                                                                                                                                                                                                                                                                                                                                                                                                                                                                                                                                                                                                                                                                                                                                                                                                                                                                                                                                                                                                                                                                                                                                                                                                                                                                                                                                                                                                                                                                                                                                                                                                                                                                                                                                                                                                                                                                                                                                                                                                                                                                                                                                                                                                                                                                                                                                                                                                                                                                                                                                                                                                                                                                                                                                                                                                                                                                                                                                                                                                                                                                                                                                                                                                                                                                                                                                                                                                                                                                                                                                                                                                                                                                                                                                                                                                                                                                                                                                                                                                                                                                                                                                                                                                                                                                                                                                                                                                                                                                                                                                                                                                                                                                                                                                                                                                                                                                                                                                                                                                                                                                                                                                                                                                                                                                                                                                                                                                                                                                                                                                                                                                                                                                                                                                                                                                                                                                                                                                                                                                                                                                                                                                                                                                                                                                                                                                                                                                                                                                                                                                                                                                                                                                                                                                                                                                                                                                                                                                                                        |2   |\n",
            "|7309     |SSB SPB                                                                                                                                                                                                                                                                                                                                                                                                                                                                                                                                                                                                                                                                                                                                                                                                                                                                                                                                                                                                                                                                                                                                                                                                                                                                                                                                                                                                                                                                                                                                                                                                                                                                                                                                                                                                                                                                                                                                                                                                                                                                                                                                                                                                                                                                                                                                                                                                                                                                                                                                                                                                                                                                                                                                                                                                                                                                                                                                                                                                                                                                                                                                                                                                                                                                                                                                                                                                                                                                                                                                                                                                                                                                                                                                                                                                                                                                                                                                                                                                                                                                                                                                                                                                                                                                                                                                                                                                                                                                                                                                                                                                                                                                                                                                                                                                                                                                                                                                                                                                                                                                                                                                                                                                                                                                                                                                                                                                                                                                                                                                                                                                                                                                                                                                                                                                                                                                                                                                                                                                                                                                                                                                                                                                                                                                                                                                                                                                                                                                                                                                                                                                                                                                                                                                                                                                                                                                                                                                                                                                                                                                                                                                                                                                                                                                                                                                                                                                                                                                                                                                                                                                                                                                                                                                                                                                                                                                                                                                                                                                                                                                                                                                                                                                                                                                                                                                                                                                                                                                                                                                                                                                                                                                                                                                                                                                                                                                                                                                                                                                                                                                                                                                                                                                                                                                                                                                                                                                                                                                                                                                                                                                                                                                                                                                                                                                                                                                                                                                                                                                                                                                                                                                                                                                                                                                                                                                                                                                                                                                                                                                                                                                                                                                                                                                                                                                                                                                                                                                                                                                                                                                                                                                                                                                                                                                                                                                                                                                                                                                                                                                                                                                                                                                                                                                                                                                                                                                                                                                                                                                                                                                                                                                                                                                                                                                                                                                                                                                                                                                                                                                                                                                                                                                                                                                                                                                                                                                                                                                                                                                                                                                                                                                                                                                                                                                                                                                                                                                                                                                                                                                                                                                                                                                                                                                                        |2   |\n",
            "|3726     |ESD CLM BFI FRD                                                                                                                                                                                                                                                                                                                                                                                                                                                                                                                                                                                                                                                                                                                                                                                                                                                                                                                                                                                                                                                                                                                                                                                                                                                                                                                                                                                                                                                                                                                                                                                                                                                                                                                                                                                                                                                                                                                                                                                                                                                                                                                                                                                                                                                                                                                                                                                                                                                                                                                                                                                                                                                                                                                                                                                                                                                                                                                                                                                                                                                                                                                                                                                                                                                                                                                                                                                                                                                                                                                                                                                                                                                                                                                                                                                                                                                                                                                                                                                                                                                                                                                                                                                                                                                                                                                                                                                                                                                                                                                                                                                                                                                                                                                                                                                                                                                                                                                                                                                                                                                                                                                                                                                                                                                                                                                                                                                                                                                                                                                                                                                                                                                                                                                                                                                                                                                                                                                                                                                                                                                                                                                                                                                                                                                                                                                                                                                                                                                                                                                                                                                                                                                                                                                                                                                                                                                                                                                                                                                                                                                                                                                                                                                                                                                                                                                                                                                                                                                                                                                                                                                                                                                                                                                                                                                                                                                                                                                                                                                                                                                                                                                                                                                                                                                                                                                                                                                                                                                                                                                                                                                                                                                                                                                                                                                                                                                                                                                                                                                                                                                                                                                                                                                                                                                                                                                                                                                                                                                                                                                                                                                                                                                                                                                                                                                                                                                                                                                                                                                                                                                                                                                                                                                                                                                                                                                                                                                                                                                                                                                                                                                                                                                                                                                                                                                                                                                                                                                                                                                                                                                                                                                                                                                                                                                                                                                                                                                                                                                                                                                                                                                                                                                                                                                                                                                                                                                                                                                                                                                                                                                                                                                                                                                                                                                                                                                                                                                                                                                                                                                                                                                                                                                                                                                                                                                                                                                                                                                                                                                                                                                                                                                                                                                                                                                                                                                                                                                                                                                                                                                                                                                                                                                                                                                                                |4   |\n",
            "|3860     |AKB DUT KQA IKO                                                                                                                                                                                                                                                                                                                                                                                                                                                                                                                                                                                                                                                                                                                                                                                                                                                                                                                                                                                                                                                                                                                                                                                                                                                                                                                                                                                                                                                                                                                                                                                                                                                                                                                                                                                                                                                                                                                                                                                                                                                                                                                                                                                                                                                                                                                                                                                                                                                                                                                                                                                                                                                                                                                                                                                                                                                                                                                                                                                                                                                                                                                                                                                                                                                                                                                                                                                                                                                                                                                                                                                                                                                                                                                                                                                                                                                                                                                                                                                                                                                                                                                                                                                                                                                                                                                                                                                                                                                                                                                                                                                                                                                                                                                                                                                                                                                                                                                                                                                                                                                                                                                                                                                                                                                                                                                                                                                                                                                                                                                                                                                                                                                                                                                                                                                                                                                                                                                                                                                                                                                                                                                                                                                                                                                                                                                                                                                                                                                                                                                                                                                                                                                                                                                                                                                                                                                                                                                                                                                                                                                                                                                                                                                                                                                                                                                                                                                                                                                                                                                                                                                                                                                                                                                                                                                                                                                                                                                                                                                                                                                                                                                                                                                                                                                                                                                                                                                                                                                                                                                                                                                                                                                                                                                                                                                                                                                                                                                                                                                                                                                                                                                                                                                                                                                                                                                                                                                                                                                                                                                                                                                                                                                                                                                                                                                                                                                                                                                                                                                                                                                                                                                                                                                                                                                                                                                                                                                                                                                                                                                                                                                                                                                                                                                                                                                                                                                                                                                                                                                                                                                                                                                                                                                                                                                                                                                                                                                                                                                                                                                                                                                                                                                                                                                                                                                                                                                                                                                                                                                                                                                                                                                                                                                                                                                                                                                                                                                                                                                                                                                                                                                                                                                                                                                                                                                                                                                                                                                                                                                                                                                                                                                                                                                                                                                                                                                                                                                                                                                                                                                                                                                                                                                                                                                                                |4   |\n",
            "|5642     |MPA ERS NDU OND                                                                                                                                                                                                                                                                                                                                                                                                                                                                                                                                                                                                                                                                                                                                                                                                                                                                                                                                                                                                                                                                                                                                                                                                                                                                                                                                                                                                                                                                                                                                                                                                                                                                                                                                                                                                                                                                                                                                                                                                                                                                                                                                                                                                                                                                                                                                                                                                                                                                                                                                                                                                                                                                                                                                                                                                                                                                                                                                                                                                                                                                                                                                                                                                                                                                                                                                                                                                                                                                                                                                                                                                                                                                                                                                                                                                                                                                                                                                                                                                                                                                                                                                                                                                                                                                                                                                                                                                                                                                                                                                                                                                                                                                                                                                                                                                                                                                                                                                                                                                                                                                                                                                                                                                                                                                                                                                                                                                                                                                                                                                                                                                                                                                                                                                                                                                                                                                                                                                                                                                                                                                                                                                                                                                                                                                                                                                                                                                                                                                                                                                                                                                                                                                                                                                                                                                                                                                                                                                                                                                                                                                                                                                                                                                                                                                                                                                                                                                                                                                                                                                                                                                                                                                                                                                                                                                                                                                                                                                                                                                                                                                                                                                                                                                                                                                                                                                                                                                                                                                                                                                                                                                                                                                                                                                                                                                                                                                                                                                                                                                                                                                                                                                                                                                                                                                                                                                                                                                                                                                                                                                                                                                                                                                                                                                                                                                                                                                                                                                                                                                                                                                                                                                                                                                                                                                                                                                                                                                                                                                                                                                                                                                                                                                                                                                                                                                                                                                                                                                                                                                                                                                                                                                                                                                                                                                                                                                                                                                                                                                                                                                                                                                                                                                                                                                                                                                                                                                                                                                                                                                                                                                                                                                                                                                                                                                                                                                                                                                                                                                                                                                                                                                                                                                                                                                                                                                                                                                                                                                                                                                                                                                                                                                                                                                                                                                                                                                                                                                                                                                                                                                                                                                                                                                                                                                                |4   |\n",
            "|1998     |TGJ TOU GEA KNQ LIF ILP KOC BMY MEE UVE                                                                                                                                                                                                                                                                                                                                                                                                                                                                                                                                                                                                                                                                                                                                                                                                                                                                                                                                                                                                                                                                                                                                                                                                                                                                                                                                                                                                                                                                                                                                                                                                                                                                                                                                                                                                                                                                                                                                                                                                                                                                                                                                                                                                                                                                                                                                                                                                                                                                                                                                                                                                                                                                                                                                                                                                                                                                                                                                                                                                                                                                                                                                                                                                                                                                                                                                                                                                                                                                                                                                                                                                                                                                                                                                                                                                                                                                                                                                                                                                                                                                                                                                                                                                                                                                                                                                                                                                                                                                                                                                                                                                                                                                                                                                                                                                                                                                                                                                                                                                                                                                                                                                                                                                                                                                                                                                                                                                                                                                                                                                                                                                                                                                                                                                                                                                                                                                                                                                                                                                                                                                                                                                                                                                                                                                                                                                                                                                                                                                                                                                                                                                                                                                                                                                                                                                                                                                                                                                                                                                                                                                                                                                                                                                                                                                                                                                                                                                                                                                                                                                                                                                                                                                                                                                                                                                                                                                                                                                                                                                                                                                                                                                                                                                                                                                                                                                                                                                                                                                                                                                                                                                                                                                                                                                                                                                                                                                                                                                                                                                                                                                                                                                                                                                                                                                                                                                                                                                                                                                                                                                                                                                                                                                                                                                                                                                                                                                                                                                                                                                                                                                                                                                                                                                                                                                                                                                                                                                                                                                                                                                                                                                                                                                                                                                                                                                                                                                                                                                                                                                                                                                                                                                                                                                                                                                                                                                                                                                                                                                                                                                                                                                                                                                                                                                                                                                                                                                                                                                                                                                                                                                                                                                                                                                                                                                                                                                                                                                                                                                                                                                                                                                                                                                                                                                                                                                                                                                                                                                                                                                                                                                                                                                                                                                                                                                                                                                                                                                                                                                                                                                                                                                                                                                                                                        |10  |\n",
            "|1        |BRW ANS TPQ OLA MGS HTA TOB KSH LAM KDM SFL ORD RYK PUS BNC GWT YCG BSB IAG AZN GIU BLI CNS TEQ IRG SWF BJZ LPM BJR GNU ADZ HBX BQS NTL AHO HGU YNO LVI WSN KEW DPO GIG UIH PUF ALC KLU CVG AXR COK PDT AVP STG PPK RMQ NOC CGM FUE ZSJ KOW QSF NKM NCU CZM BJF ISN URE YKF CWB CNM WLK CIY TGG YUD YQT MSS RMP NDB SUX MAN WNR OCC VFA TIF MKE FKL KIM CEE KHD GIL WUA MJU DLM TEB SVC NWI YMO SLY TKX REN DHB EWB HNH STV PBU MBA SLH HTY ULP KSD TLM SJE KAA LGP BNK DEB ATL HEK JNB KZN SKB IZO KAJ WVB YLW ROV KIH MAM JLR TLT UDR ORI KSY SYR MDE FLG CLY ILD BJX SSY AES MZL ORV YYT BNI OMR AER HVR KWK DLI VBY HUN RCH GOM KNU ONG STS OVS PBL MVP CPD SAP KUD REC DRG GST MAO DBQ LPQ PVC TSF TTT UTH ENH ILI VLS KBC BMA CJS LUQ YHP CCM EKO KVL UTT JHG HRL RTB MRD BTT MMX DAL INL SNV HFE NGS RGA CUE QOW LEH YFJ SCN LKL ATQ CRL JHW OSS SUB VRN STW TLN SLQ CJU CEI XKS GRU XIL BIQ YRG YXX ZDY HAC LUX ROI MCG YQC LRH NQY GUA BLL FON WBM PAG PGA TXL BJA INH SDY UTN XQP JTY VBV FKB UBA RNL AET HUH FBM TUU VIN PCR CMP LUR TLH MZH BRO JJN EJA PPV BQB OMO TRW PUQ SLA OIT ATW VPY PSC SDR KZI IDR LAQ SMI JSI LIG ELU ISE VOG NNG GRB ULG ILY BZE LBC ACU SDK TOL KKN VVO LMN UYL HPB ELC AJR EAM MYY MIS LPS PVK TUC NGQ BYC VDS RGS PPQ YQG ESC RUR PSO NAW GUC OST MKW MUE MGH ONT KUS PAD BFS EMA BKG BSD KTN IND SON WUS TKG CGD EWN MDQ CUR VDC DED PJM CYP DAY YYH STR MCN AJI DIB VAK SUF KGC SSH CCC UVF PPW PUG SKD PSA SLK LST UCT TRD MSY NTX VSA ZCL PND KCH HER SJK ABX LKE VAO PUE JYV KWN NZH AXA BON MKL ABE EZE BLE VLD NVI STM SCE OUA WLS PHL PEU KPR BUN MSN XGR COO VLL KME MII YSB IXE NLK TIZ IPH UET TGM LUD EAS BWI CEB DIN EWR LJU HUS MOZ LSY TMS GEG FOE DDC MGF LWS TSA TGZ BHS WNN GDZ YUB YIE ROO BKZ GYE OKL ACC IAN CRM PNH FVM RAB GDX KAE PPS DUR MLI BVB PSE DCA DHN DNH PIR YGR BPL SJZ DAT KLO NAG LRS BEU KKB RDZ SLU PQQ CND UMD YQK BCV LTN POI KGE TRZ GRQ DYG ATK IKS HNA NCE PMC DEN AMS CAG FMA ESM VPS YAK DJE USN AOO GDT SUV ABL SAB YOL TUN TWU YPX HFS PEK BOJ NBO MWX LWY WNH SHM SVZ MCO FKS DNZ TYS OKA GIS HAM LUM FCO PNP MUA HDS DLC HOR FIH YNG MSR CYF TNG BTI DLZ SDP GNY CXH SJL YXU TXN KLW TOF FMN YMN HYN LAI URC KCA LAZ NRL PPB HRG CLQ HAS TIM OAK VDB STI GRW CFR RUN GDN BOI SOQ CHA ZIH MSO BQL EAE MNG HGN MGT KIJ BKK OUD TAY TET SVI VKO COU TPE ENY JDH YUY BLK IJK YDQ YOG DOK YER REU MLN MCY BPN UKX KER NQU YSY CAJ BBN JER AIT OSD KUL SPP SHX CCF PPN YYF VDZ DBO GMB COR DLU ROT LBF SHD HID INZ RVT KCG TML ASU PES TBP CZL ANC KSJ LTI OAL ZRH KCM SNW CIC HRM GAM BUD HOU JRO OLH YYQ LCE DGO SNU MNT HAD KGI HDF ZFM BUW RVN EDI JSY TVY ZQN LUN WRG TYF SRZ PMF CEK SLM YPO HVD ASV JMU LAU KMS AUQ SFG PRC HOV LFW TRF SVD PLN MHH CYX WJU PNS DSK YEV PHW YAT YCD YCY CGB PQS BHV BWK PBO BOC EQS SRY LUV MAR CBR DEE BQK IRC AKU CXR CIJ NME PEZ CRP NDR KKJ PUU TTE KRY CUF YSM BVV BSL BZO HOG CMA KOJ ORY MUR DAB GKA CHG RIC LTO MRV LGK EUX TTJ LBB IAR BVA LEN YQR HAK ELG RNA ABT HBA ACA YFO SJP ARK CCP AQJ SXP YTZ DTW WMX MSQ TME YWK PKU YLE SYZ DOY LAX ZIG FLN ESU NKG CYB MAQ PBG BGO MLG SGD BNE WSZ MHD RRS PLZ ACX GHT SZB PTU DRK YQX CUN OUZ CXJ JKH UDJ YGK VCA ASW WTK ARM XUZ XNN TUI GNM BIL PIN IIL BRL RAR TMU TAC POP NNT VNO PIP BFL SVB LIM CZX KDH ACY RDN YIH UKA XNA UBJ ZHY BFD LPD JUJ KGA NOS VUP ABR CLE SHL KBU IRZ COQ TCB GPI OTH OGS KRO WBQ CAH GRJ FNC SJU WUZ LDS PIA RHD OKJ FSZ GLK SUR BSK BLR MBE LLF PLX BGG UUD PUY HKG SMS MXL DAX SXO SPU MJM HUX ORK YZG LNJ WDH FNA CNP FPO BAQ CNJ KAL YAB YIN WRE AKY LBV LUK OXB DIU FUJ SVK DLE GOI MXV HAU RBR CIX MGZ PIT CSG GRI PSP KFP TMW MFE FRE CHU NAV CAW UPG JIQ TVS BIA REX CIT YYB AZS LET MBI GES TBS ADE TJM GAE SYX KRL RIX SMA YGP YXS DLY TBZ CMI YCB ACI AMM AOI BPT SDD PPG CBT MLO RXS OPS VNX DVO AUS AMD SCO CYS SFA FMI ATD MTT YTS NST KWM HGR PDA PLW TNJ ZUH DCY YGJ RPR MIA TRS EBA TOS PBH RKD CTG MWA BWN ROK MXX RNS HDY AUC NEV EGS MRE SYO VAN RCM MKG LJA YEK USU EBL PMZ RAI LNZ AHU PRA BFV RSH LEJ THR OBO DWC BHK JXA LGG VGZ YSK NNM IRK ZQW NVT CRW CDJ BAV SOF KKR VVC MUN BTK DJJ KOA ZQZ CLV NPE ETZ YBP KVG HJR CUL CMH MKY NAT HGH PVH HON WGP AKV ELI HDG LZO SCT SIT AKL IXS UYU GHE GVA EAT YFB BUF KCL PGK PKB SLN REP GPA POR VII LIN HLN GCI PIS RUA TFF CUM JSR BOS PGD ODN MXH HAA YWB DOL VKT IXB KLR NIB JMK ERZ ALA PIE DRW MYQ ALW MYW NBC YCO PZH VTE ROW ROB BVG BTR PVG YXE CJA DIJ NAJ SBY LAN DND RJL HRO JAL NNB KGF OPO GCM LPY NRT SDE ABY PUM MVY MST TNO LXS MEC GRZ VCL ZTB KRK YQQ CGQ YZZ ORF SVO PAH AUK YQY RBA GDL CMU MCK MDL NKC CCS YLL MOF RJH HLZ BMU ILR XAP HZH GHB FLO VPE ALF JLN KUV LCG GYS ROP ARH BEY CZJ LEA GAJ SVL HIN BIM TKK TAG CKG AAN IQN TCZ SBA RET GRV MPN KSF TMC ICN YPR FSP NOV CLT ZKE EIN YQF ERF NAO SCZ PTG PSR IST YXC MZG PTY DSA AUY LYA YPW ITO LDU OMA PAP FRA CRI GBB COD BDL PYH UIO BNB TTU PSJ PWM MMJ NYU JKL YGZ QBC CZE GTF BGA NJC KIR BJB YUX CHX PFO LYC KYZ JNG CRD NRK ECN GOV YXL MOB UAS RDV SPD BAH LCX SJC BPX AWZ LAR TIH JDO YUM BBI SAN NAS TKU PPP BYN CEZ YNA GRX PKE MCT KSC SKT LOE HOT MJN SXK MWZ HYA ZYL INN SUJ PLO LFT PUW KNH LUW ZTH ABM IAD DOU SGF KEP VQS BZN KTB NMA TRV SCU CPR TUS ERC YVB PMO BCI HIA AJA GCN SAT GSP ROC SPI AIU PJA ABS PDP KOT PXM HFT TSH KAN AEY BSG AXT PET AMH OSW GLN RSU BUZ YKG UAP TUL XBE JZH POA YBK CXB CJM DME PHX PVU VAI AUR JJU GGT THS HIJ AUX SEZ CGP BUA HME GLV YRT YHR TNC HAH DEL BRA YWP GIZ WTL MKP FDF TWB MRS GDV PBC YTH ULB OVB CUC AZA CCV ELS PQC AVL TZA LAO DZN PLS TLJ ULN NGB YVO FLW AKJ IKT HTI KNG RIW MFM KKH JNX ULK ABD CJL HLH CXF ANR CAE ERL JIK ACT AYT CTU XIY AVV LKH EVE LKG RMT PDG PVR DXB JPA KSA WEI MCM NDG SRG OHE SVQ LSI AWD KHV YSG MOC LKO UIP NSK DHI CGY YNB XSC EYW MAZ HHH SPN SFN TBB UNK SZZ DIR ADU HLA CED DSN PKA TGO URJ TLL PVD HIB RMF HAJ AXU IKA YNS GMP MKM CAY BRE IPL MGB DDG VIJ NYM FEN LDB MOT KVD GVR IMT GOJ BRU CDG BOO KEJ LGQ ATA YXP LAD REL YPH DCM ATT FOR VUS IXM LRD PWE JIB KCC YCS CKS HCR VXO PTH NYI ANG CAI SSJ CSH PIX GWD PMW YFH EGX SXF DTM KRP AJU YUT MAS YPL YPJ IFO CFU HNL AFZ JUZ TBW ZSA DAD HOB AGA THU KVA KHI TLA TOH SBW GZP ANM ARI MEL MSL APW LLA CAB CDV YRL BTV CIZ MEA KTE JBQ DQA ANF OBU ITM CNY ZGU TVF GJT YPN IBE NYO BDQ YAA PHO BJV JOS MSA FTU AUG NTQ EYP PUJ CID TAM SIP SWJ NSI YVZ UKS SVS IDA SHE HMB ATY BUS ONQ BTM CTL BEL FAY GMA SBH TUR YVR PDV MLM LJG LHE PAT OTD LEC PAZ AOR PYC BKC LIS ATM PMR ZAH ASP YNC RDM LRT PHE LSA EUG LNE MMO SGU OER KZR SRA GOQ IGA JIM IEV TMJ MAH PLM ISP GYN PCL HAQ AFA SDG AXM CIF THN VEE JIJ TSV BYO JIC UIB BFF GFF FSC TCR ACK YYJ RGK BOB TFN EIS EFL JAV OIA HRI FMM LRE ANV HFA CBO AZD WMN KHS XIC BNN HEA URY BVI MSZ ARW SIC YQZ YXH AGF PNR BDB YAX LYH KUN MGW BRM PNK AGU BVE AFL LGW ROR XMN VHC YBG NLD JOI BAX UBP NLT CMX PVA LBS COS EEK PMI VXC XCR ENU RRG ZKG BTJ TIV LSC SJW ZNZ MYR GSM AXK OIM CVU VST SNA PEM JED WEF LED OTP TSJ CPV HMI BEG URG HMA FDH HNM LDH YTY VDH LIL INC MDC LOH CCK WMO BHI SKP LIT SKZ ZAD EDL ONJ GRP YZR CXI ATC CKH JGD DJB SML LRM NYA PSG NYT IPA GJA ART BDU YHU IXU OME AGR LXA MPL SAX RCE MVT LZC TAH YIO OOL FRS BBK SLI YBC CTA BRC WMR JNN CAP ZMT ISU GKK DBV OGX AAT GPB AOG RVD LMP RZR SPS LKB AUA XFW ELM ELF RVE KWJ MTV KTA MYG TRE SDU RSW TMM CEC GDE SOW DUJ NOJ GZT ETH DYU RBV IAS VDM TRR KNS KWE JBR BUC RAO GDQ SLC CKZ PRI MLW GLO NUL ZFN SDQ KMG TID PXU SVU MJV IXC BHQ MSJ TUP PAV HOD FRO SOJ NQN NIM KGL MPP YZP BKW MRU DAR BME TAE SHP AQP NNY FAE JTC ERM LUO SBZ YKQ RTA LTD PKN KRN ABA SNO KTL LPP BGY FWA MCZ ISA WWP MOI YKM BAZ KIF PNQ KOK IRJ MJZ TAK MMU GET AGN WJR MAJ ZRJ LDE ORN GMR PEE TDX FCA JHM INV YZV ADL EGC UUA GAU TKS AJF EOI NVK NLG RVV GOT PHS LZH SEA YFS GEV GAO MVD MYT TSE SID DPS MYU TDD YEG NUX CGO TIJ PNZ ZAT TRI TNK TFS GPS RKS ORH ZCO DIY EVG MOV WAW YBL ADQ BUX UYN MWF SVA LNB PDX EDO TMI CSK HPH AOS MHG AAR HSG LOS BZV EOH YWJ LCK TCQ EZS BHU YTL GZO AUU FEZ OLF TJU PKC VIE AZI SFT IGD HKB SLL GOP AXD DAC RBY IGG YNJ CEN CJJ ALG PGV DGT TPA YQU LAS KPB ASM GSE BIO TTN SSR RCB CDR DUD XCH GTO NAY SHG SDF CTC KLL SNP IFN KCZ EAR AKI WWK DCN KUO BGM YPC NDJ ENA BJM WAT OSR TBT IBA GRO MCP HKK TVC SRV KAZ RLK UII HNS IOA YOW RAK GUM JUL UTP GTE RAP BZG YGL YVM SJJ XSB OGD KUU SAW LPA PIB ELP NGO EBJ THD JEG OKC YTE MCI MQX EVV CUZ KRF MDZ PIU ABQ MEB DMK FSD ACH NUS TMP TVU RES ROS DNK SCW KUF LGB MMY HYG JST PIZ TQL SYY KSU TCT YAM WRO IXZ SFB MLL MJT LCY NTG YFA GWL YLC SPC EGM ZEM CSY MBS TOY ABV AAL KOS NVA ITH KDO SVP RUS GIB RAH AIA YKA KID GAF NHV CHS TGI AMQ IXG TCG ORB AVA MME GLF YMM TJQ JHS KOI JNU YGH MED PEI PER DBA MUK PEG JGS VAS BOM XKH HPN ULH YLH MAB CTM ZLT AHB BTU TLC URS YES SRX WLG TST YOJ KMQ SWA BLZ SKU BLA ZBF KHH ULO GXH CPX MTS YXN IUE AQI TYN LCH ESB GAL YYY VNS SYD LOK VCP AIN LRR VAR VIG YGX KDV VCS BNY DJG KBV REG IZA HGA YZY MSU VGA JIU GHA CAL RKV NOU KIV PYY AOK ZUM LZY YIC ICT PTP HSN MOL TIA YZT IRA BLJ IBZ MEH ZBR YZF KWI SIN ITB UST IQT RIY CKB GOU GCC GBT PAS OUL PWQ IGU CMG PZU CCJ SCC YGV HDM GND YYD BIK BVS TWF KCT XMS TKD YHM KMI CIK SMK TLE VIX BHD HTN BHM KBR YYC TUA KPN IVC ACV MCX BMW JUH BOG NAQ PKZ MZT LBL CGA TZX FUG NDY LUZ GTR IBR CDC KLG YYZ MZV CKD MAF DMU OWB KET UNN ASJ BEN SFJ BEW GUR ILM DIG SXX KHN TGR MDT TXK YWL CZU TIP JCB LEQ EDR SBN ANU BBA JKG PYJ APO TRN IGR KFS URT AGB STX ELL RVK FAR KTT MOQ OOK SKX BOD GYD TAL QUB SYM JAN DGA NAP LWN SOM AGX KYA IWK KLN PMV YPM JNZ CZS SHR MQP KKE BKS RNO PBJ TGH MTJ TMR PBI DUB SUG KAW FNT SJD WYA HMO VLI FUK VLN NTN KOZ SXR FAI WNP PEW YCU BXU JOE JOG SLX HHN PNI VEL YBR MHT KSN ULV ILG TLV USK MQH JUB CBB MYA PLU STT AHE VLC MJD NUP FYU KBP YMT AYQ ASO LHW GUW LAW EJH MMB CNF ZLO MBL MUW RYG SKK BNX KKI MPM ODY OTZ AOE RDU MDW ENE TNR SOC GLT YHK AZR MLU ADA WBB NCL RUH ACZ CPO AAQ BVC OZC TYR BHE BGR LHR KGT BUR BJI CPT LNK JPR YXT SGN UEL LPL KPO LPI TBU FKQ FOC DRS GEO VAW KSO KND KVX BHR DEC MGM BUQ GYA MEM LIR VTZ CLD HVN KCQ YBX JHB BAY CHQ MIR IRP TPS TCD MGA LAE ALS BHJ ELH FLA BZL LWO CIA DOM SRQ WUX LLK UNG NUE YIW YAP NPL SNE PKY IMF BCN CSX YNZ BRR RNB MRY INB PPT ALO YHI RAE GXF MQF TBN BNA APN PSS BET NBX OSY KEM SHB KZB PRN PED STZ SZG PNL SEN UAK UEO CRK KTS PKR FKI AAE YCL FJR AEP MTM KOV ECP YGW RAJ BDA LAP HTS PVE LSP LPT BES SCM KGS ODS OZZ HRB YQD JDZ MCE QRO DSM PUB HIR BXR TUK TNA MEG HKT RTW BWT BLQ FMO JAI PGU THE WIN YYE BHB UKK CHC RHO LWB MDK RDD LCA LYS ROA KPV WNA HBE SCQ BIS BDH MMK SSA BRI KLV FTE ADF KYK IAH ASR KAO BRD UAQ SGC SLZ SGO RTM SCK OAG RSD VLY LXG TUF TMT LTX ZOS YQL MHK FBS USM WGA VIL OMD FLR PDS LIH EGN KUA IPN YGT BGF AQA EGE TKE KGX YRB AYP BCD DFW FAT YHO EXI FUO CAN EUN AGP PJG DPL YUL LBP IAA HVB TAP TRO DIK BKI NBS ODO SZI MLB KMJ YRA ARU UME MXZ NSN ANI SDL CHO KIN SHA SHJ AKX PQI RMA KWA TAI BHO ZAL BMI ADB SBP KSQ POS CZH FLL KWL BGI SDJ NLA WAA SKE AMA BGW ZSE POL XBJ DOH YHY TAS MNL VOL TIU SAV LYP OAX ADK KDU TOG CFB LGA MEI SKN TNN CME NSH SHW JTR TEN PFB JUV MBJ BHY BKO MQT VHM OMS LBJ ZPB BZR BDS CGH EPR BRQ HET ACR ELV XTG MQN LBE MSW YVQ IXJ HEL SKO HLD NTE MCV HEH UIN EVN SAF BXB GOH POM NRA LSE KRS GGW VGO BJL LMM GGG ILO OSL BDJ DRV YXJ KIT CIP LNV SXM YOP DLH KSM APF MSP LEB MYJ TRK ACE JAX SMX KVK CNX SOY CVM SOG CDB AEB GCK MMH DAV MDU KRT YKU UPN BHX TEE CCU HAN CMB KTG LGI BKY YVP LUG MHQ WIC FNJ ISC KDI MUB HKD CHY OZH PXO SZA YQB AKN IOS VVI BDP JGN CRA ELD GSO XMH OGG FSM IWJ NAH FUN KOO TUO PHC OLB CLO BLV SGY ERN CMW MRX TTA DNR LFR IAM JQE PIH ZHA CAK IFJ HND CPE HRK BND TBG KNX TGU BBO YKL SDV LBA LYI DIL YIK MVR PDL JFK RST CFN KRR YWG IXL OAJ KAT WAG CYZ FRW ASE POZ XRY SMF MGQ PMY MID LPB JCK OLC BSA GPT RAS BDO RBQ MUX AEX BSC SVJ ZAZ RMI ADD HUU JFR PLQ JQA ZEL LYR GOA NBE SKG SJT FTA MRA KYP ZAG RIB RFP CUU OHH NRN ANX KUH OGZ KUT JOL FAO INU YXY SAL NUI SZE FDE BSO CJC TAO UUS KTM SYQ PAF YQM CLJ STC WLH TGD PBD AGT KTW IPC IPI CEM LMC PRH HAV TJA MTR YWH YNY ARN IQQ SMR URA DKR TER VDA ISB MTY BFJ EGO IAO MAD ATZ CBH LBD WWT HKN KUK EMK VLV TSN MDG EMD SPR IXR IMP HOM IKI FAV MAA LNY OVD NJF JGA MKQ UKB PLJ CAC VXE YUS ABZ PZB DMM OSI SDN TTQ BPS DYR LLW TNW KHG LDY QRW TRG AQG KJA LQM SVX MNA HUY SRE WXN AKK NAN ASF NOZ HMV IOM TKP GNV PFQ CKY CGI KGP WIL TPP MFU KIX MXP LBU ERI CFC DMB AGM YYU KLX MQL ETR BKM IPT BMV KAD BTH TFI CYO NOB IVL SRP ALH LYG SHH VIS AJL CBQ FNI MBT NGE GRK WRY SAH BIR NYK CFS ARC SYB TOE TGC MIM LYB AKP HOI HOF VCE YKT CMN RGN PTJ PIK HUI AVN UFA MJF VDE DMD YSJ UAH BKQ BEB MFR TCO CIU POJ BTS YSO IXA ZVK TUG MRZ ORX CEG EAU YKS YZS VAA MUC ASB MKK UGC BOY BEJ HYL KOE YAG RNN SXB KEF GLH PZI KWT VKG SLW AHN WRL TUB YNT ICI YTQ TAB YAC TLS MZR DEA MAG KKA PBM DLG WHK MEX YDP DUS CGN TRC QUO VCT STD VER DIE WNZ RIG HRE BAL MLE OGL ZYI GLA CPC BFQ KZO CGK KKC BOH GEL CIH CTS JSH BNS SHV ZNE BHH PZO OMH DLA VOZ LKN KIS SJO YYG USH STL JAC HDN PSM AGH GBE CWA DHM LNS DRO LOD YIF FLS YHZ ISG JSU FEG SZX LGL AAX AOJ GFN VRA IGM LOP EBU LUH THL ABI FRU JNS OBY MYD RFD MPH TSR PAC LEI IXD RHI YJT SSG AUH YFC RGL SNN CPH LMT DZA MLA LEX APL ESL MIG RLG LLI YAY LXR OLP PGX GFK SOU AZO ELQ CUK ATH SHC KOP MHC WUH LLU MQM SCY BRS EYK CJB MOD MOU MAU DWD KVC YHD SCL CUQ AKF PNA DIW HSL SFO KGD AGS HSV CFE PEN KYU YPY ABJ STN MLY PEC PGF RGI RSA CGR XFN WMI GAN FUT CWL HVG BVH WKJ YDF GRR PRG MLX VRC EXT ALB KZS AXP RZE WSX HJJ AAY BFN PHF RUT UDI EBB SLP SJI TRU KBL POG BSR BWA RIA SVG DAU RJK RDC BRN YYR CLL BQN GMZ LCR ZAM|3304|\n",
            "+---------+---------------------------------------------------------------------------------------------------------------------------------------------------------------------------------------------------------------------------------------------------------------------------------------------------------------------------------------------------------------------------------------------------------------------------------------------------------------------------------------------------------------------------------------------------------------------------------------------------------------------------------------------------------------------------------------------------------------------------------------------------------------------------------------------------------------------------------------------------------------------------------------------------------------------------------------------------------------------------------------------------------------------------------------------------------------------------------------------------------------------------------------------------------------------------------------------------------------------------------------------------------------------------------------------------------------------------------------------------------------------------------------------------------------------------------------------------------------------------------------------------------------------------------------------------------------------------------------------------------------------------------------------------------------------------------------------------------------------------------------------------------------------------------------------------------------------------------------------------------------------------------------------------------------------------------------------------------------------------------------------------------------------------------------------------------------------------------------------------------------------------------------------------------------------------------------------------------------------------------------------------------------------------------------------------------------------------------------------------------------------------------------------------------------------------------------------------------------------------------------------------------------------------------------------------------------------------------------------------------------------------------------------------------------------------------------------------------------------------------------------------------------------------------------------------------------------------------------------------------------------------------------------------------------------------------------------------------------------------------------------------------------------------------------------------------------------------------------------------------------------------------------------------------------------------------------------------------------------------------------------------------------------------------------------------------------------------------------------------------------------------------------------------------------------------------------------------------------------------------------------------------------------------------------------------------------------------------------------------------------------------------------------------------------------------------------------------------------------------------------------------------------------------------------------------------------------------------------------------------------------------------------------------------------------------------------------------------------------------------------------------------------------------------------------------------------------------------------------------------------------------------------------------------------------------------------------------------------------------------------------------------------------------------------------------------------------------------------------------------------------------------------------------------------------------------------------------------------------------------------------------------------------------------------------------------------------------------------------------------------------------------------------------------------------------------------------------------------------------------------------------------------------------------------------------------------------------------------------------------------------------------------------------------------------------------------------------------------------------------------------------------------------------------------------------------------------------------------------------------------------------------------------------------------------------------------------------------------------------------------------------------------------------------------------------------------------------------------------------------------------------------------------------------------------------------------------------------------------------------------------------------------------------------------------------------------------------------------------------------------------------------------------------------------------------------------------------------------------------------------------------------------------------------------------------------------------------------------------------------------------------------------------------------------------------------------------------------------------------------------------------------------------------------------------------------------------------------------------------------------------------------------------------------------------------------------------------------------------------------------------------------------------------------------------------------------------------------------------------------------------------------------------------------------------------------------------------------------------------------------------------------------------------------------------------------------------------------------------------------------------------------------------------------------------------------------------------------------------------------------------------------------------------------------------------------------------------------------------------------------------------------------------------------------------------------------------------------------------------------------------------------------------------------------------------------------------------------------------------------------------------------------------------------------------------------------------------------------------------------------------------------------------------------------------------------------------------------------------------------------------------------------------------------------------------------------------------------------------------------------------------------------------------------------------------------------------------------------------------------------------------------------------------------------------------------------------------------------------------------------------------------------------------------------------------------------------------------------------------------------------------------------------------------------------------------------------------------------------------------------------------------------------------------------------------------------------------------------------------------------------------------------------------------------------------------------------------------------------------------------------------------------------------------------------------------------------------------------------------------------------------------------------------------------------------------------------------------------------------------------------------------------------------------------------------------------------------------------------------------------------------------------------------------------------------------------------------------------------------------------------------------------------------------------------------------------------------------------------------------------------------------------------------------------------------------------------------------------------------------------------------------------------------------------------------------------------------------------------------------------------------------------------------------------------------------------------------------------------------------------------------------------------------------------------------------------------------------------------------------------------------------------------------------------------------------------------------------------------------------------------------------------------------------------------------------------------------------------------------------------------------------------------------------------------------------------------------------------------------------------------------------------------------------------------------------------------------------------------------------------------------------------------------------------------------------------------------------------------------------------------------------------------------------------------------------------------------------------------------------------------------------------------------------------------------------------------------------------------------------------------------------------------------------------------------------------------------------------------------------------------------------------------------------------------------------------------------------------------------------------------------------------------------------------------------------------------------------------------------------------------------------------------------------------------------------------------------------------------------------------------------------------------------------------------------------------------------------------------------------------------------------------------------------------------------------------------------------------------------------------------------------------------------------------------------------------------------------------------------------------------------------------------------------------------------------------------------------------------------------------------------------------------------------------------------------------------------------------------------------------------------------------------------------------------------------------------------------------------------------------------------------------------------------------------------------------------------------------------------------------------------------------------------------------------------------------------------------------------------------------------------------------------------------------------------------------------------------------------------------------------------------------------------------------------------------------------------------------------------------------------------------------------------------------------------------------------------------------------------------------------------------------------------------------------------------------------------------------------------------------------------------------------------------------------------------------------------------------------------------------------------------------------------------------------------------------------------------------------------------------------------------------------------------------------------------------------------------------------------------------------------------------------------------------------------------------------------------------------------------------------------------------------------------------------------------------------------------------------------------------------------------------------------------------------------------------------------------------------------------------------------------------------------------------------------------------------------------------------------------------------------------------------------------------------------------------------------------------------------------------------------------------------------------------------------------------------------------------------------------------------------------------------------------------------------------------------------------------------------------------------------------------------------------------------------------------------------------------------------------------------------------------------------------------------------------------------------------------------------------------------------------------+----+\n",
            "\n"
          ]
        }
      ]
    },
    {
      "cell_type": "markdown",
      "source": [
        "Isolated graphs"
      ],
      "metadata": {
        "id": "0qfrZmlJpS4p"
      }
    },
    {
      "cell_type": "code",
      "source": [
        "subgraphs.show()"
      ],
      "metadata": {
        "colab": {
          "base_uri": "https://localhost:8080/"
        },
        "id": "PtNo1BxBpSDs",
        "outputId": "41fcc3b4-3cfb-41d4-cecb-dafd9c1436ea"
      },
      "execution_count": null,
      "outputs": [
        {
          "output_type": "stream",
          "name": "stdout",
          "text": [
            "+---------+--------------------+----+\n",
            "|component|            airports|size|\n",
            "+---------+--------------------+----+\n",
            "|     6448|             GCW BLD|   2|\n",
            "|     7309|             SSB SPB|   2|\n",
            "|     3726|     ESD CLM BFI FRD|   4|\n",
            "|     3860|     AKB DUT KQA IKO|   4|\n",
            "|     5642|     MPA ERS NDU OND|   4|\n",
            "|     1998|TGJ TOU GEA KNQ L...|  10|\n",
            "|        1|BRW ANS TPQ OLA M...|3304|\n",
            "+---------+--------------------+----+\n",
            "\n"
          ]
        }
      ]
    }
  ]
}